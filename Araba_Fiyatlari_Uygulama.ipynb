{
 "cells": [
  {
   "cell_type": "markdown",
   "id": "bf96769d",
   "metadata": {},
   "source": [
    "## Kaggle üzerinden alınan gerçek bir araba veri seti ile uygulama gerçekleştireceğiz:"
   ]
  },
  {
   "cell_type": "code",
   "execution_count": 61,
   "id": "fadb0815",
   "metadata": {},
   "outputs": [],
   "source": [
    "import pandas as pd\n",
    "import numpy as np\n",
    "import matplotlib.pyplot as plt\n",
    "import seaborn as sbn"
   ]
  },
  {
   "cell_type": "code",
   "execution_count": 62,
   "id": "58a3f51a",
   "metadata": {},
   "outputs": [],
   "source": [
    "dataFrame=pd.read_excel(\"merc.xlsx\")"
   ]
  },
  {
   "cell_type": "code",
   "execution_count": 63,
   "id": "a3b77b2c",
   "metadata": {},
   "outputs": [
    {
     "data": {
      "text/html": [
       "<div>\n",
       "<style scoped>\n",
       "    .dataframe tbody tr th:only-of-type {\n",
       "        vertical-align: middle;\n",
       "    }\n",
       "\n",
       "    .dataframe tbody tr th {\n",
       "        vertical-align: top;\n",
       "    }\n",
       "\n",
       "    .dataframe thead th {\n",
       "        text-align: right;\n",
       "    }\n",
       "</style>\n",
       "<table border=\"1\" class=\"dataframe\">\n",
       "  <thead>\n",
       "    <tr style=\"text-align: right;\">\n",
       "      <th></th>\n",
       "      <th>year</th>\n",
       "      <th>price</th>\n",
       "      <th>transmission</th>\n",
       "      <th>mileage</th>\n",
       "      <th>tax</th>\n",
       "      <th>mpg</th>\n",
       "      <th>engineSize</th>\n",
       "    </tr>\n",
       "  </thead>\n",
       "  <tbody>\n",
       "    <tr>\n",
       "      <th>0</th>\n",
       "      <td>2005</td>\n",
       "      <td>5200</td>\n",
       "      <td>Automatic</td>\n",
       "      <td>63000</td>\n",
       "      <td>325</td>\n",
       "      <td>32.1</td>\n",
       "      <td>1.8</td>\n",
       "    </tr>\n",
       "    <tr>\n",
       "      <th>1</th>\n",
       "      <td>2017</td>\n",
       "      <td>34948</td>\n",
       "      <td>Automatic</td>\n",
       "      <td>27000</td>\n",
       "      <td>20</td>\n",
       "      <td>61.4</td>\n",
       "      <td>2.1</td>\n",
       "    </tr>\n",
       "    <tr>\n",
       "      <th>2</th>\n",
       "      <td>2016</td>\n",
       "      <td>49948</td>\n",
       "      <td>Automatic</td>\n",
       "      <td>6200</td>\n",
       "      <td>555</td>\n",
       "      <td>28.0</td>\n",
       "      <td>5.5</td>\n",
       "    </tr>\n",
       "    <tr>\n",
       "      <th>3</th>\n",
       "      <td>2016</td>\n",
       "      <td>61948</td>\n",
       "      <td>Automatic</td>\n",
       "      <td>16000</td>\n",
       "      <td>325</td>\n",
       "      <td>30.4</td>\n",
       "      <td>4.0</td>\n",
       "    </tr>\n",
       "    <tr>\n",
       "      <th>4</th>\n",
       "      <td>2016</td>\n",
       "      <td>73948</td>\n",
       "      <td>Automatic</td>\n",
       "      <td>4000</td>\n",
       "      <td>325</td>\n",
       "      <td>30.1</td>\n",
       "      <td>4.0</td>\n",
       "    </tr>\n",
       "  </tbody>\n",
       "</table>\n",
       "</div>"
      ],
      "text/plain": [
       "   year  price transmission  mileage  tax   mpg  engineSize\n",
       "0  2005   5200    Automatic    63000  325  32.1         1.8\n",
       "1  2017  34948    Automatic    27000   20  61.4         2.1\n",
       "2  2016  49948    Automatic     6200  555  28.0         5.5\n",
       "3  2016  61948    Automatic    16000  325  30.4         4.0\n",
       "4  2016  73948    Automatic     4000  325  30.1         4.0"
      ]
     },
     "execution_count": 63,
     "metadata": {},
     "output_type": "execute_result"
    }
   ],
   "source": [
    "dataFrame.head()"
   ]
  },
  {
   "cell_type": "code",
   "execution_count": 64,
   "id": "28f27b5e",
   "metadata": {},
   "outputs": [
    {
     "data": {
      "text/html": [
       "<div>\n",
       "<style scoped>\n",
       "    .dataframe tbody tr th:only-of-type {\n",
       "        vertical-align: middle;\n",
       "    }\n",
       "\n",
       "    .dataframe tbody tr th {\n",
       "        vertical-align: top;\n",
       "    }\n",
       "\n",
       "    .dataframe thead th {\n",
       "        text-align: right;\n",
       "    }\n",
       "</style>\n",
       "<table border=\"1\" class=\"dataframe\">\n",
       "  <thead>\n",
       "    <tr style=\"text-align: right;\">\n",
       "      <th></th>\n",
       "      <th>year</th>\n",
       "      <th>price</th>\n",
       "      <th>mileage</th>\n",
       "      <th>tax</th>\n",
       "      <th>mpg</th>\n",
       "      <th>engineSize</th>\n",
       "    </tr>\n",
       "  </thead>\n",
       "  <tbody>\n",
       "    <tr>\n",
       "      <th>count</th>\n",
       "      <td>13119.000000</td>\n",
       "      <td>13119.000000</td>\n",
       "      <td>13119.000000</td>\n",
       "      <td>13119.000000</td>\n",
       "      <td>13119.000000</td>\n",
       "      <td>13119.000000</td>\n",
       "    </tr>\n",
       "    <tr>\n",
       "      <th>mean</th>\n",
       "      <td>2017.296288</td>\n",
       "      <td>24698.596920</td>\n",
       "      <td>21949.559037</td>\n",
       "      <td>129.972178</td>\n",
       "      <td>55.155843</td>\n",
       "      <td>2.071530</td>\n",
       "    </tr>\n",
       "    <tr>\n",
       "      <th>std</th>\n",
       "      <td>2.224709</td>\n",
       "      <td>11842.675542</td>\n",
       "      <td>21176.512267</td>\n",
       "      <td>65.260286</td>\n",
       "      <td>15.220082</td>\n",
       "      <td>0.572426</td>\n",
       "    </tr>\n",
       "    <tr>\n",
       "      <th>min</th>\n",
       "      <td>1970.000000</td>\n",
       "      <td>650.000000</td>\n",
       "      <td>1.000000</td>\n",
       "      <td>0.000000</td>\n",
       "      <td>1.100000</td>\n",
       "      <td>0.000000</td>\n",
       "    </tr>\n",
       "    <tr>\n",
       "      <th>25%</th>\n",
       "      <td>2016.000000</td>\n",
       "      <td>17450.000000</td>\n",
       "      <td>6097.500000</td>\n",
       "      <td>125.000000</td>\n",
       "      <td>45.600000</td>\n",
       "      <td>1.800000</td>\n",
       "    </tr>\n",
       "    <tr>\n",
       "      <th>50%</th>\n",
       "      <td>2018.000000</td>\n",
       "      <td>22480.000000</td>\n",
       "      <td>15189.000000</td>\n",
       "      <td>145.000000</td>\n",
       "      <td>56.500000</td>\n",
       "      <td>2.000000</td>\n",
       "    </tr>\n",
       "    <tr>\n",
       "      <th>75%</th>\n",
       "      <td>2019.000000</td>\n",
       "      <td>28980.000000</td>\n",
       "      <td>31779.500000</td>\n",
       "      <td>145.000000</td>\n",
       "      <td>64.200000</td>\n",
       "      <td>2.100000</td>\n",
       "    </tr>\n",
       "    <tr>\n",
       "      <th>max</th>\n",
       "      <td>2020.000000</td>\n",
       "      <td>159999.000000</td>\n",
       "      <td>259000.000000</td>\n",
       "      <td>580.000000</td>\n",
       "      <td>217.300000</td>\n",
       "      <td>6.200000</td>\n",
       "    </tr>\n",
       "  </tbody>\n",
       "</table>\n",
       "</div>"
      ],
      "text/plain": [
       "               year          price        mileage           tax           mpg  \\\n",
       "count  13119.000000   13119.000000   13119.000000  13119.000000  13119.000000   \n",
       "mean    2017.296288   24698.596920   21949.559037    129.972178     55.155843   \n",
       "std        2.224709   11842.675542   21176.512267     65.260286     15.220082   \n",
       "min     1970.000000     650.000000       1.000000      0.000000      1.100000   \n",
       "25%     2016.000000   17450.000000    6097.500000    125.000000     45.600000   \n",
       "50%     2018.000000   22480.000000   15189.000000    145.000000     56.500000   \n",
       "75%     2019.000000   28980.000000   31779.500000    145.000000     64.200000   \n",
       "max     2020.000000  159999.000000  259000.000000    580.000000    217.300000   \n",
       "\n",
       "         engineSize  \n",
       "count  13119.000000  \n",
       "mean       2.071530  \n",
       "std        0.572426  \n",
       "min        0.000000  \n",
       "25%        1.800000  \n",
       "50%        2.000000  \n",
       "75%        2.100000  \n",
       "max        6.200000  "
      ]
     },
     "execution_count": 64,
     "metadata": {},
     "output_type": "execute_result"
    }
   ],
   "source": [
    "# Veriyi anlamaya çalışmak\n",
    "dataFrame.describe()"
   ]
  },
  {
   "cell_type": "code",
   "execution_count": 65,
   "id": "005136d7",
   "metadata": {},
   "outputs": [
    {
     "data": {
      "text/plain": [
       "year            0\n",
       "price           0\n",
       "transmission    0\n",
       "mileage         0\n",
       "tax             0\n",
       "mpg             0\n",
       "engineSize      0\n",
       "dtype: int64"
      ]
     },
     "execution_count": 65,
     "metadata": {},
     "output_type": "execute_result"
    }
   ],
   "source": [
    "# Veride null veri var mı? Ona bakalım:\n",
    "dataFrame.isnull().sum()"
   ]
  },
  {
   "cell_type": "code",
   "execution_count": 66,
   "id": "cf5c3012",
   "metadata": {},
   "outputs": [],
   "source": [
    "# Görüldüğü üzere veride eksik yok."
   ]
  },
  {
   "cell_type": "markdown",
   "id": "d9af62a4",
   "metadata": {},
   "source": [
    "## Verideki fiyat parametresinin dağılım (distrubution) grafiğine bakalım:"
   ]
  },
  {
   "cell_type": "code",
   "execution_count": 67,
   "id": "6b866409",
   "metadata": {},
   "outputs": [
    {
     "name": "stderr",
     "output_type": "stream",
     "text": [
      "C:\\Users\\Asus\\anaconda3\\lib\\site-packages\\seaborn\\distributions.py:2619: FutureWarning: `distplot` is a deprecated function and will be removed in a future version. Please adapt your code to use either `displot` (a figure-level function with similar flexibility) or `histplot` (an axes-level function for histograms).\n",
      "  warnings.warn(msg, FutureWarning)\n"
     ]
    },
    {
     "data": {
      "text/plain": [
       "<AxesSubplot:xlabel='price', ylabel='Density'>"
      ]
     },
     "execution_count": 67,
     "metadata": {},
     "output_type": "execute_result"
    },
    {
     "data": {
      "image/png": "[encoded data removed]",
      "text/plain": [
       "<Figure size 700x500 with 1 Axes>"
      ]
     },
     "metadata": {},
     "output_type": "display_data"
    }
   ],
   "source": [
    "plt.figure(figsize=(7,5))\n",
    "sbn.distplot(dataFrame[\"price\"])"
   ]
  },
  {
   "cell_type": "markdown",
   "id": "a4a7dabe",
   "metadata": {},
   "source": [
    "## Grafiğe baktığımızda görüyoruz ki sağa doğru sıfır ekseninde bir ilerleme var. Yani pahalı araba bantlarında durum kötü ve bu bize probleme sebep olabilir. Yani pahalı arabalardan bir kaç tane atıp yolumuza devam etmek bize bir şey kaybettirmez."
   ]
  },
  {
   "cell_type": "markdown",
   "id": "5424772f",
   "metadata": {},
   "source": [
    "### Yıllara göre araba dağılımına da bakalım:"
   ]
  },
  {
   "cell_type": "code",
   "execution_count": 68,
   "id": "b7cc3d21",
   "metadata": {},
   "outputs": [
    {
     "name": "stderr",
     "output_type": "stream",
     "text": [
      "C:\\Users\\Asus\\anaconda3\\lib\\site-packages\\seaborn\\_decorators.py:36: FutureWarning: Pass the following variable as a keyword arg: x. From version 0.12, the only valid positional argument will be `data`, and passing other arguments without an explicit keyword will result in an error or misinterpretation.\n",
      "  warnings.warn(\n"
     ]
    },
    {
     "data": {
      "text/plain": [
       "<AxesSubplot:xlabel='year', ylabel='count'>"
      ]
     },
     "execution_count": 68,
     "metadata": {},
     "output_type": "execute_result"
    },
    {
     "data": {
      "image/png": "[encoded data removed]",
      "text/plain": [
       "<Figure size 1200x800 with 1 Axes>"
      ]
     },
     "metadata": {},
     "output_type": "display_data"
    }
   ],
   "source": [
    "plt.figure(figsize=(12,8))\n",
    "sbn.countplot(dataFrame[\"year\"])"
   ]
  },
  {
   "cell_type": "markdown",
   "id": "c0d4f9c2",
   "metadata": {},
   "source": [
    "## Verilerin birbiri arasında korelasyonuna bakalım:"
   ]
  },
  {
   "cell_type": "code",
   "execution_count": 69,
   "id": "56b9f85b",
   "metadata": {},
   "outputs": [
    {
     "data": {
      "text/html": [
       "<div>\n",
       "<style scoped>\n",
       "    .dataframe tbody tr th:only-of-type {\n",
       "        vertical-align: middle;\n",
       "    }\n",
       "\n",
       "    .dataframe tbody tr th {\n",
       "        vertical-align: top;\n",
       "    }\n",
       "\n",
       "    .dataframe thead th {\n",
       "        text-align: right;\n",
       "    }\n",
       "</style>\n",
       "<table border=\"1\" class=\"dataframe\">\n",
       "  <thead>\n",
       "    <tr style=\"text-align: right;\">\n",
       "      <th></th>\n",
       "      <th>year</th>\n",
       "      <th>price</th>\n",
       "      <th>mileage</th>\n",
       "      <th>tax</th>\n",
       "      <th>mpg</th>\n",
       "      <th>engineSize</th>\n",
       "    </tr>\n",
       "  </thead>\n",
       "  <tbody>\n",
       "    <tr>\n",
       "      <th>year</th>\n",
       "      <td>1.000000</td>\n",
       "      <td>0.520712</td>\n",
       "      <td>-0.738027</td>\n",
       "      <td>0.012480</td>\n",
       "      <td>-0.094626</td>\n",
       "      <td>-0.142147</td>\n",
       "    </tr>\n",
       "    <tr>\n",
       "      <th>price</th>\n",
       "      <td>0.520712</td>\n",
       "      <td>1.000000</td>\n",
       "      <td>-0.537214</td>\n",
       "      <td>0.268717</td>\n",
       "      <td>-0.438445</td>\n",
       "      <td>0.516126</td>\n",
       "    </tr>\n",
       "    <tr>\n",
       "      <th>mileage</th>\n",
       "      <td>-0.738027</td>\n",
       "      <td>-0.537214</td>\n",
       "      <td>1.000000</td>\n",
       "      <td>-0.160223</td>\n",
       "      <td>0.202850</td>\n",
       "      <td>0.063652</td>\n",
       "    </tr>\n",
       "    <tr>\n",
       "      <th>tax</th>\n",
       "      <td>0.012480</td>\n",
       "      <td>0.268717</td>\n",
       "      <td>-0.160223</td>\n",
       "      <td>1.000000</td>\n",
       "      <td>-0.513742</td>\n",
       "      <td>0.338341</td>\n",
       "    </tr>\n",
       "    <tr>\n",
       "      <th>mpg</th>\n",
       "      <td>-0.094626</td>\n",
       "      <td>-0.438445</td>\n",
       "      <td>0.202850</td>\n",
       "      <td>-0.513742</td>\n",
       "      <td>1.000000</td>\n",
       "      <td>-0.339862</td>\n",
       "    </tr>\n",
       "    <tr>\n",
       "      <th>engineSize</th>\n",
       "      <td>-0.142147</td>\n",
       "      <td>0.516126</td>\n",
       "      <td>0.063652</td>\n",
       "      <td>0.338341</td>\n",
       "      <td>-0.339862</td>\n",
       "      <td>1.000000</td>\n",
       "    </tr>\n",
       "  </tbody>\n",
       "</table>\n",
       "</div>"
      ],
      "text/plain": [
       "                year     price   mileage       tax       mpg  engineSize\n",
       "year        1.000000  0.520712 -0.738027  0.012480 -0.094626   -0.142147\n",
       "price       0.520712  1.000000 -0.537214  0.268717 -0.438445    0.516126\n",
       "mileage    -0.738027 -0.537214  1.000000 -0.160223  0.202850    0.063652\n",
       "tax         0.012480  0.268717 -0.160223  1.000000 -0.513742    0.338341\n",
       "mpg        -0.094626 -0.438445  0.202850 -0.513742  1.000000   -0.339862\n",
       "engineSize -0.142147  0.516126  0.063652  0.338341 -0.339862    1.000000"
      ]
     },
     "execution_count": 69,
     "metadata": {},
     "output_type": "execute_result"
    }
   ],
   "source": [
    "dataFrame.corr()                                                   #corr=Korelasyon"
   ]
  },
  {
   "cell_type": "code",
   "execution_count": 70,
   "id": "66caf12d",
   "metadata": {},
   "outputs": [
    {
     "data": {
      "text/plain": [
       "mileage      -0.537214\n",
       "mpg          -0.438445\n",
       "tax           0.268717\n",
       "engineSize    0.516126\n",
       "year          0.520712\n",
       "price         1.000000\n",
       "Name: price, dtype: float64"
      ]
     },
     "execution_count": 70,
     "metadata": {},
     "output_type": "execute_result"
    }
   ],
   "source": [
    "# Sadece fiyatlarla ilgili olanı almak istersek:\n",
    "dataFrame.corr()[\"price\"].sort_values()"
   ]
  },
  {
   "cell_type": "code",
   "execution_count": 71,
   "id": "9a29827d",
   "metadata": {},
   "outputs": [
    {
     "data": {
      "text/plain": [
       "<AxesSubplot:xlabel='mileage', ylabel='price'>"
      ]
     },
     "execution_count": 71,
     "metadata": {},
     "output_type": "execute_result"
    },
    {
     "data": {
      "image/png": "[encoded data removed]",
      "text/plain": [
       "<Figure size 640x480 with 1 Axes>"
      ]
     },
     "metadata": {},
     "output_type": "display_data"
    }
   ],
   "source": [
    "sbn.scatterplot(x=\"mileage\",y=\"price\",data=dataFrame,color=\"orange\")                   #parametre olarak bir x, bir y ve bir data veriyoruz."
   ]
  },
  {
   "cell_type": "markdown",
   "id": "8ee61453",
   "metadata": {},
   "source": [
    "### Gördüğümüz üzere beklendik bir grafik çıktı. Mileage yani kullanım klometresi arttıkça fiyat da düşüyor."
   ]
  },
  {
   "cell_type": "markdown",
   "id": "578ba842",
   "metadata": {},
   "source": [
    "## Pahalı fiyatları bir görelim :"
   ]
  },
  {
   "cell_type": "code",
   "execution_count": 72,
   "id": "361b46c9",
   "metadata": {},
   "outputs": [
    {
     "data": {
      "text/html": [
       "<div>\n",
       "<style scoped>\n",
       "    .dataframe tbody tr th:only-of-type {\n",
       "        vertical-align: middle;\n",
       "    }\n",
       "\n",
       "    .dataframe tbody tr th {\n",
       "        vertical-align: top;\n",
       "    }\n",
       "\n",
       "    .dataframe thead th {\n",
       "        text-align: right;\n",
       "    }\n",
       "</style>\n",
       "<table border=\"1\" class=\"dataframe\">\n",
       "  <thead>\n",
       "    <tr style=\"text-align: right;\">\n",
       "      <th></th>\n",
       "      <th>year</th>\n",
       "      <th>price</th>\n",
       "      <th>transmission</th>\n",
       "      <th>mileage</th>\n",
       "      <th>tax</th>\n",
       "      <th>mpg</th>\n",
       "      <th>engineSize</th>\n",
       "    </tr>\n",
       "  </thead>\n",
       "  <tbody>\n",
       "    <tr>\n",
       "      <th>6199</th>\n",
       "      <td>2020</td>\n",
       "      <td>159999</td>\n",
       "      <td>Semi-Auto</td>\n",
       "      <td>1350</td>\n",
       "      <td>145</td>\n",
       "      <td>21.4</td>\n",
       "      <td>4.0</td>\n",
       "    </tr>\n",
       "    <tr>\n",
       "      <th>10044</th>\n",
       "      <td>2020</td>\n",
       "      <td>154998</td>\n",
       "      <td>Automatic</td>\n",
       "      <td>3000</td>\n",
       "      <td>150</td>\n",
       "      <td>21.4</td>\n",
       "      <td>4.0</td>\n",
       "    </tr>\n",
       "    <tr>\n",
       "      <th>5</th>\n",
       "      <td>2011</td>\n",
       "      <td>149948</td>\n",
       "      <td>Automatic</td>\n",
       "      <td>3000</td>\n",
       "      <td>570</td>\n",
       "      <td>21.4</td>\n",
       "      <td>6.2</td>\n",
       "    </tr>\n",
       "    <tr>\n",
       "      <th>8737</th>\n",
       "      <td>2019</td>\n",
       "      <td>140319</td>\n",
       "      <td>Semi-Auto</td>\n",
       "      <td>785</td>\n",
       "      <td>150</td>\n",
       "      <td>22.1</td>\n",
       "      <td>4.0</td>\n",
       "    </tr>\n",
       "    <tr>\n",
       "      <th>6386</th>\n",
       "      <td>2018</td>\n",
       "      <td>139995</td>\n",
       "      <td>Semi-Auto</td>\n",
       "      <td>13046</td>\n",
       "      <td>145</td>\n",
       "      <td>21.4</td>\n",
       "      <td>4.0</td>\n",
       "    </tr>\n",
       "    <tr>\n",
       "      <th>8</th>\n",
       "      <td>2019</td>\n",
       "      <td>139948</td>\n",
       "      <td>Automatic</td>\n",
       "      <td>12000</td>\n",
       "      <td>145</td>\n",
       "      <td>21.4</td>\n",
       "      <td>4.0</td>\n",
       "    </tr>\n",
       "    <tr>\n",
       "      <th>9133</th>\n",
       "      <td>2019</td>\n",
       "      <td>139559</td>\n",
       "      <td>Semi-Auto</td>\n",
       "      <td>1000</td>\n",
       "      <td>145</td>\n",
       "      <td>22.1</td>\n",
       "      <td>4.0</td>\n",
       "    </tr>\n",
       "    <tr>\n",
       "      <th>8821</th>\n",
       "      <td>2020</td>\n",
       "      <td>138439</td>\n",
       "      <td>Semi-Auto</td>\n",
       "      <td>1000</td>\n",
       "      <td>145</td>\n",
       "      <td>22.1</td>\n",
       "      <td>4.0</td>\n",
       "    </tr>\n",
       "    <tr>\n",
       "      <th>5902</th>\n",
       "      <td>2018</td>\n",
       "      <td>135771</td>\n",
       "      <td>Semi-Auto</td>\n",
       "      <td>19000</td>\n",
       "      <td>145</td>\n",
       "      <td>21.4</td>\n",
       "      <td>4.0</td>\n",
       "    </tr>\n",
       "    <tr>\n",
       "      <th>7864</th>\n",
       "      <td>2018</td>\n",
       "      <td>135124</td>\n",
       "      <td>Semi-Auto</td>\n",
       "      <td>18234</td>\n",
       "      <td>150</td>\n",
       "      <td>21.4</td>\n",
       "      <td>4.0</td>\n",
       "    </tr>\n",
       "    <tr>\n",
       "      <th>8673</th>\n",
       "      <td>2019</td>\n",
       "      <td>134219</td>\n",
       "      <td>Semi-Auto</td>\n",
       "      <td>1000</td>\n",
       "      <td>145</td>\n",
       "      <td>24.8</td>\n",
       "      <td>4.0</td>\n",
       "    </tr>\n",
       "    <tr>\n",
       "      <th>6210</th>\n",
       "      <td>2019</td>\n",
       "      <td>129990</td>\n",
       "      <td>Automatic</td>\n",
       "      <td>1000</td>\n",
       "      <td>145</td>\n",
       "      <td>24.8</td>\n",
       "      <td>4.0</td>\n",
       "    </tr>\n",
       "    <tr>\n",
       "      <th>4759</th>\n",
       "      <td>2019</td>\n",
       "      <td>126000</td>\n",
       "      <td>Automatic</td>\n",
       "      <td>250</td>\n",
       "      <td>145</td>\n",
       "      <td>24.6</td>\n",
       "      <td>4.0</td>\n",
       "    </tr>\n",
       "    <tr>\n",
       "      <th>2647</th>\n",
       "      <td>2019</td>\n",
       "      <td>125796</td>\n",
       "      <td>Automatic</td>\n",
       "      <td>637</td>\n",
       "      <td>145</td>\n",
       "      <td>24.8</td>\n",
       "      <td>4.0</td>\n",
       "    </tr>\n",
       "    <tr>\n",
       "      <th>6223</th>\n",
       "      <td>2019</td>\n",
       "      <td>124999</td>\n",
       "      <td>Automatic</td>\n",
       "      <td>1500</td>\n",
       "      <td>145</td>\n",
       "      <td>31.7</td>\n",
       "      <td>4.0</td>\n",
       "    </tr>\n",
       "    <tr>\n",
       "      <th>4094</th>\n",
       "      <td>2019</td>\n",
       "      <td>124366</td>\n",
       "      <td>Semi-Auto</td>\n",
       "      <td>880</td>\n",
       "      <td>145</td>\n",
       "      <td>24.8</td>\n",
       "      <td>4.0</td>\n",
       "    </tr>\n",
       "    <tr>\n",
       "      <th>2629</th>\n",
       "      <td>2019</td>\n",
       "      <td>123846</td>\n",
       "      <td>Semi-Auto</td>\n",
       "      <td>2951</td>\n",
       "      <td>145</td>\n",
       "      <td>22.1</td>\n",
       "      <td>4.0</td>\n",
       "    </tr>\n",
       "    <tr>\n",
       "      <th>7134</th>\n",
       "      <td>2019</td>\n",
       "      <td>115359</td>\n",
       "      <td>Semi-Auto</td>\n",
       "      <td>1000</td>\n",
       "      <td>145</td>\n",
       "      <td>30.1</td>\n",
       "      <td>4.0</td>\n",
       "    </tr>\n",
       "    <tr>\n",
       "      <th>9159</th>\n",
       "      <td>2019</td>\n",
       "      <td>114199</td>\n",
       "      <td>Semi-Auto</td>\n",
       "      <td>891</td>\n",
       "      <td>145</td>\n",
       "      <td>22.6</td>\n",
       "      <td>4.0</td>\n",
       "    </tr>\n",
       "    <tr>\n",
       "      <th>1980</th>\n",
       "      <td>2019</td>\n",
       "      <td>109995</td>\n",
       "      <td>Semi-Auto</td>\n",
       "      <td>4688</td>\n",
       "      <td>150</td>\n",
       "      <td>31.7</td>\n",
       "      <td>4.0</td>\n",
       "    </tr>\n",
       "  </tbody>\n",
       "</table>\n",
       "</div>"
      ],
      "text/plain": [
       "       year   price transmission  mileage  tax   mpg  engineSize\n",
       "6199   2020  159999    Semi-Auto     1350  145  21.4         4.0\n",
       "10044  2020  154998    Automatic     3000  150  21.4         4.0\n",
       "5      2011  149948    Automatic     3000  570  21.4         6.2\n",
       "8737   2019  140319    Semi-Auto      785  150  22.1         4.0\n",
       "6386   2018  139995    Semi-Auto    13046  145  21.4         4.0\n",
       "8      2019  139948    Automatic    12000  145  21.4         4.0\n",
       "9133   2019  139559    Semi-Auto     1000  145  22.1         4.0\n",
       "8821   2020  138439    Semi-Auto     1000  145  22.1         4.0\n",
       "5902   2018  135771    Semi-Auto    19000  145  21.4         4.0\n",
       "7864   2018  135124    Semi-Auto    18234  150  21.4         4.0\n",
       "8673   2019  134219    Semi-Auto     1000  145  24.8         4.0\n",
       "6210   2019  129990    Automatic     1000  145  24.8         4.0\n",
       "4759   2019  126000    Automatic      250  145  24.6         4.0\n",
       "2647   2019  125796    Automatic      637  145  24.8         4.0\n",
       "6223   2019  124999    Automatic     1500  145  31.7         4.0\n",
       "4094   2019  124366    Semi-Auto      880  145  24.8         4.0\n",
       "2629   2019  123846    Semi-Auto     2951  145  22.1         4.0\n",
       "7134   2019  115359    Semi-Auto     1000  145  30.1         4.0\n",
       "9159   2019  114199    Semi-Auto      891  145  22.6         4.0\n",
       "1980   2019  109995    Semi-Auto     4688  150  31.7         4.0"
      ]
     },
     "execution_count": 72,
     "metadata": {},
     "output_type": "execute_result"
    }
   ],
   "source": [
    "dataFrame.sort_values(\"price\",ascending=False).head(20)       #ascending in false olması en yüksek fiyatı en yukarda getirecek."
   ]
  },
  {
   "cell_type": "markdown",
   "id": "eac54fd6",
   "metadata": {},
   "source": [
    "## Çok yüksek fiyata sahip arabaların bizim modelimizi bozabileceği tahminini ilk grafikten çıkarmıştık.Bu yüzden ne kadar veri varsa bunun yüzde 99 unu alalım. Verinin yüzde 99 unu almak o verinin yapısını bozmadan almamızı sağlar."
   ]
  },
  {
   "cell_type": "code",
   "execution_count": 73,
   "id": "3a5a8696",
   "metadata": {},
   "outputs": [
    {
     "data": {
      "text/plain": [
       "13119"
      ]
     },
     "execution_count": 73,
     "metadata": {},
     "output_type": "execute_result"
    }
   ],
   "source": [
    "len(dataFrame)"
   ]
  },
  {
   "cell_type": "code",
   "execution_count": 74,
   "id": "03e240d9",
   "metadata": {},
   "outputs": [],
   "source": [
    "# 13.119 veri var"
   ]
  },
  {
   "cell_type": "code",
   "execution_count": 75,
   "id": "f751a48a",
   "metadata": {},
   "outputs": [
    {
     "data": {
      "text/plain": [
       "131.19"
      ]
     },
     "execution_count": 75,
     "metadata": {},
     "output_type": "execute_result"
    }
   ],
   "source": [
    "len(dataFrame)*0.01 "
   ]
  },
  {
   "cell_type": "markdown",
   "id": "7f4e7af0",
   "metadata": {},
   "source": [
    "## Bu verinin yüzde 99 unu almak yani yüzde 1 ini çıkarmak bize bir şey kaybettirmez. En yüksek fiyatlı arabalardan 131 veriyi atabiliriz :"
   ]
  },
  {
   "cell_type": "code",
   "execution_count": 76,
   "id": "7b9b17d2",
   "metadata": {},
   "outputs": [],
   "source": [
    "dataFrameYüzdeDoksanDokuzu=dataFrame.sort_values(\"price\",ascending=False).iloc[131:]"
   ]
  },
  {
   "cell_type": "code",
   "execution_count": 77,
   "id": "5670e7ee",
   "metadata": {},
   "outputs": [
    {
     "data": {
      "text/html": [
       "<div>\n",
       "<style scoped>\n",
       "    .dataframe tbody tr th:only-of-type {\n",
       "        vertical-align: middle;\n",
       "    }\n",
       "\n",
       "    .dataframe tbody tr th {\n",
       "        vertical-align: top;\n",
       "    }\n",
       "\n",
       "    .dataframe thead th {\n",
       "        text-align: right;\n",
       "    }\n",
       "</style>\n",
       "<table border=\"1\" class=\"dataframe\">\n",
       "  <thead>\n",
       "    <tr style=\"text-align: right;\">\n",
       "      <th></th>\n",
       "      <th>year</th>\n",
       "      <th>price</th>\n",
       "      <th>mileage</th>\n",
       "      <th>tax</th>\n",
       "      <th>mpg</th>\n",
       "      <th>engineSize</th>\n",
       "    </tr>\n",
       "  </thead>\n",
       "  <tbody>\n",
       "    <tr>\n",
       "      <th>count</th>\n",
       "      <td>12988.000000</td>\n",
       "      <td>12988.000000</td>\n",
       "      <td>12988.000000</td>\n",
       "      <td>12988.000000</td>\n",
       "      <td>12988.000000</td>\n",
       "      <td>12988.000000</td>\n",
       "    </tr>\n",
       "    <tr>\n",
       "      <th>mean</th>\n",
       "      <td>2017.281876</td>\n",
       "      <td>24074.926933</td>\n",
       "      <td>22132.741146</td>\n",
       "      <td>129.689714</td>\n",
       "      <td>55.437142</td>\n",
       "      <td>2.050901</td>\n",
       "    </tr>\n",
       "    <tr>\n",
       "      <th>std</th>\n",
       "      <td>2.228515</td>\n",
       "      <td>9866.224575</td>\n",
       "      <td>21196.776401</td>\n",
       "      <td>65.183076</td>\n",
       "      <td>15.025999</td>\n",
       "      <td>0.532596</td>\n",
       "    </tr>\n",
       "    <tr>\n",
       "      <th>min</th>\n",
       "      <td>1970.000000</td>\n",
       "      <td>650.000000</td>\n",
       "      <td>1.000000</td>\n",
       "      <td>0.000000</td>\n",
       "      <td>1.100000</td>\n",
       "      <td>0.000000</td>\n",
       "    </tr>\n",
       "    <tr>\n",
       "      <th>25%</th>\n",
       "      <td>2016.000000</td>\n",
       "      <td>17357.500000</td>\n",
       "      <td>6322.000000</td>\n",
       "      <td>125.000000</td>\n",
       "      <td>45.600000</td>\n",
       "      <td>1.675000</td>\n",
       "    </tr>\n",
       "    <tr>\n",
       "      <th>50%</th>\n",
       "      <td>2018.000000</td>\n",
       "      <td>22299.000000</td>\n",
       "      <td>15369.500000</td>\n",
       "      <td>145.000000</td>\n",
       "      <td>56.500000</td>\n",
       "      <td>2.000000</td>\n",
       "    </tr>\n",
       "    <tr>\n",
       "      <th>75%</th>\n",
       "      <td>2019.000000</td>\n",
       "      <td>28706.000000</td>\n",
       "      <td>31982.250000</td>\n",
       "      <td>145.000000</td>\n",
       "      <td>64.200000</td>\n",
       "      <td>2.100000</td>\n",
       "    </tr>\n",
       "    <tr>\n",
       "      <th>max</th>\n",
       "      <td>2020.000000</td>\n",
       "      <td>65990.000000</td>\n",
       "      <td>259000.000000</td>\n",
       "      <td>580.000000</td>\n",
       "      <td>217.300000</td>\n",
       "      <td>6.200000</td>\n",
       "    </tr>\n",
       "  </tbody>\n",
       "</table>\n",
       "</div>"
      ],
      "text/plain": [
       "               year         price        mileage           tax           mpg  \\\n",
       "count  12988.000000  12988.000000   12988.000000  12988.000000  12988.000000   \n",
       "mean    2017.281876  24074.926933   22132.741146    129.689714     55.437142   \n",
       "std        2.228515   9866.224575   21196.776401     65.183076     15.025999   \n",
       "min     1970.000000    650.000000       1.000000      0.000000      1.100000   \n",
       "25%     2016.000000  17357.500000    6322.000000    125.000000     45.600000   \n",
       "50%     2018.000000  22299.000000   15369.500000    145.000000     56.500000   \n",
       "75%     2019.000000  28706.000000   31982.250000    145.000000     64.200000   \n",
       "max     2020.000000  65990.000000  259000.000000    580.000000    217.300000   \n",
       "\n",
       "         engineSize  \n",
       "count  12988.000000  \n",
       "mean       2.050901  \n",
       "std        0.532596  \n",
       "min        0.000000  \n",
       "25%        1.675000  \n",
       "50%        2.000000  \n",
       "75%        2.100000  \n",
       "max        6.200000  "
      ]
     },
     "execution_count": 77,
     "metadata": {},
     "output_type": "execute_result"
    }
   ],
   "source": [
    "dataFrameYüzdeDoksanDokuzu.describe()"
   ]
  },
  {
   "cell_type": "markdown",
   "id": "09d8be18",
   "metadata": {},
   "source": [
    "## Yüksek fiyatlardan atılmış haliyle yeniden çizdirelim: "
   ]
  },
  {
   "cell_type": "code",
   "execution_count": 78,
   "id": "97f15d19",
   "metadata": {},
   "outputs": [
    {
     "name": "stderr",
     "output_type": "stream",
     "text": [
      "C:\\Users\\Asus\\anaconda3\\lib\\site-packages\\seaborn\\distributions.py:2619: FutureWarning: `distplot` is a deprecated function and will be removed in a future version. Please adapt your code to use either `displot` (a figure-level function with similar flexibility) or `histplot` (an axes-level function for histograms).\n",
      "  warnings.warn(msg, FutureWarning)\n"
     ]
    },
    {
     "data": {
      "text/plain": [
       "<AxesSubplot:xlabel='price', ylabel='Density'>"
      ]
     },
     "execution_count": 78,
     "metadata": {},
     "output_type": "execute_result"
    },
    {
     "data": {
      "image/png": "[encoded data removed]",
      "text/plain": [
       "<Figure size 700x500 with 1 Axes>"
      ]
     },
     "metadata": {},
     "output_type": "display_data"
    }
   ],
   "source": [
    "plt.figure(figsize=(7,5))\n",
    "sbn.distplot(dataFrameYüzdeDoksanDokuzu[\"price\"])"
   ]
  },
  {
   "cell_type": "code",
   "execution_count": 79,
   "id": "8ad527c8",
   "metadata": {},
   "outputs": [
    {
     "data": {
      "text/plain": [
       "year\n",
       "1970    24999.000000\n",
       "1997     9995.000000\n",
       "1998     8605.000000\n",
       "1999     5995.000000\n",
       "2000     5743.333333\n",
       "2001     4957.900000\n",
       "2002     5820.444444\n",
       "2003     4878.000000\n",
       "2004     4727.615385\n",
       "2005     4426.111111\n",
       "2006     4036.875000\n",
       "2007     5136.045455\n",
       "2008     6967.437500\n",
       "2009     6166.764706\n",
       "2010     8308.473684\n",
       "2011    12624.894737\n",
       "2012    10845.140351\n",
       "2013    11939.842466\n",
       "2014    14042.936864\n",
       "2015    16731.780020\n",
       "2016    19307.892948\n",
       "2017    21514.307854\n",
       "2018    25720.162918\n",
       "2019    31290.020865\n",
       "2020    35433.282337\n",
       "Name: price, dtype: float64"
      ]
     },
     "execution_count": 79,
     "metadata": {},
     "output_type": "execute_result"
    }
   ],
   "source": [
    "dataFrame.groupby(\"year\").mean()[\"price\"]                #orjinal dataFrame yıllara göre gruplanıp ortalaması alındı"
   ]
  },
  {
   "cell_type": "code",
   "execution_count": 80,
   "id": "82a23895",
   "metadata": {},
   "outputs": [
    {
     "data": {
      "text/plain": [
       "year\n",
       "1970    24999.000000\n",
       "1997     9995.000000\n",
       "1998     8605.000000\n",
       "1999     5995.000000\n",
       "2000     5743.333333\n",
       "2001     4957.900000\n",
       "2002     5820.444444\n",
       "2003     4878.000000\n",
       "2004     4727.615385\n",
       "2005     4426.111111\n",
       "2006     4036.875000\n",
       "2007     5136.045455\n",
       "2008     6967.437500\n",
       "2009     6166.764706\n",
       "2010     8308.473684\n",
       "2011     8913.459459\n",
       "2012    10845.140351\n",
       "2013    11939.842466\n",
       "2014    14042.936864\n",
       "2015    16647.822222\n",
       "2016    19223.558943\n",
       "2017    21356.280421\n",
       "2018    24800.844506\n",
       "2019    30289.524832\n",
       "2020    34234.794872\n",
       "Name: price, dtype: float64"
      ]
     },
     "execution_count": 80,
     "metadata": {},
     "output_type": "execute_result"
    }
   ],
   "source": [
    "dataFrameYüzdeDoksanDokuzu.groupby(\"year\").mean()[\"price\"]"
   ]
  },
  {
   "cell_type": "markdown",
   "id": "3c11f5f9",
   "metadata": {},
   "source": [
    "## Burada farkedildiği üzere 1970 yılındaki bir aracın ortalama 25 bin değerine satılıyor olması biraz uçuk bir değer ve bu bir istenmeyen durum. İstersek bunu da atabiliriz ."
   ]
  },
  {
   "cell_type": "code",
   "execution_count": 81,
   "id": "2c7de3e5",
   "metadata": {},
   "outputs": [
    {
     "data": {
      "text/plain": [
       "year\n",
       "1997     9995.000000\n",
       "1998     8605.000000\n",
       "1999     5995.000000\n",
       "2000     5743.333333\n",
       "2001     4957.900000\n",
       "2002     5820.444444\n",
       "2003     4878.000000\n",
       "2004     4727.615385\n",
       "2005     4426.111111\n",
       "2006     4036.875000\n",
       "2007     5136.045455\n",
       "2008     6967.437500\n",
       "2009     6166.764706\n",
       "2010     8308.473684\n",
       "2011    12624.894737\n",
       "2012    10845.140351\n",
       "2013    11939.842466\n",
       "2014    14042.936864\n",
       "2015    16731.780020\n",
       "2016    19307.892948\n",
       "2017    21514.307854\n",
       "2018    25720.162918\n",
       "2019    31290.020865\n",
       "2020    35433.282337\n",
       "Name: price, dtype: float64"
      ]
     },
     "execution_count": 81,
     "metadata": {},
     "output_type": "execute_result"
    }
   ],
   "source": [
    "dataFrame[dataFrame.year!=1970 ].groupby(\"year\").mean()[\"price\"]"
   ]
  },
  {
   "cell_type": "code",
   "execution_count": 82,
   "id": "33d8d85c",
   "metadata": {},
   "outputs": [],
   "source": [
    "dataFrame=dataFrameYüzdeDoksanDokuzu"
   ]
  },
  {
   "cell_type": "code",
   "execution_count": 83,
   "id": "acf90df1",
   "metadata": {},
   "outputs": [
    {
     "data": {
      "text/html": [
       "<div>\n",
       "<style scoped>\n",
       "    .dataframe tbody tr th:only-of-type {\n",
       "        vertical-align: middle;\n",
       "    }\n",
       "\n",
       "    .dataframe tbody tr th {\n",
       "        vertical-align: top;\n",
       "    }\n",
       "\n",
       "    .dataframe thead th {\n",
       "        text-align: right;\n",
       "    }\n",
       "</style>\n",
       "<table border=\"1\" class=\"dataframe\">\n",
       "  <thead>\n",
       "    <tr style=\"text-align: right;\">\n",
       "      <th></th>\n",
       "      <th>year</th>\n",
       "      <th>price</th>\n",
       "      <th>mileage</th>\n",
       "      <th>tax</th>\n",
       "      <th>mpg</th>\n",
       "      <th>engineSize</th>\n",
       "    </tr>\n",
       "  </thead>\n",
       "  <tbody>\n",
       "    <tr>\n",
       "      <th>count</th>\n",
       "      <td>12988.000000</td>\n",
       "      <td>12988.000000</td>\n",
       "      <td>12988.000000</td>\n",
       "      <td>12988.000000</td>\n",
       "      <td>12988.000000</td>\n",
       "      <td>12988.000000</td>\n",
       "    </tr>\n",
       "    <tr>\n",
       "      <th>mean</th>\n",
       "      <td>2017.281876</td>\n",
       "      <td>24074.926933</td>\n",
       "      <td>22132.741146</td>\n",
       "      <td>129.689714</td>\n",
       "      <td>55.437142</td>\n",
       "      <td>2.050901</td>\n",
       "    </tr>\n",
       "    <tr>\n",
       "      <th>std</th>\n",
       "      <td>2.228515</td>\n",
       "      <td>9866.224575</td>\n",
       "      <td>21196.776401</td>\n",
       "      <td>65.183076</td>\n",
       "      <td>15.025999</td>\n",
       "      <td>0.532596</td>\n",
       "    </tr>\n",
       "    <tr>\n",
       "      <th>min</th>\n",
       "      <td>1970.000000</td>\n",
       "      <td>650.000000</td>\n",
       "      <td>1.000000</td>\n",
       "      <td>0.000000</td>\n",
       "      <td>1.100000</td>\n",
       "      <td>0.000000</td>\n",
       "    </tr>\n",
       "    <tr>\n",
       "      <th>25%</th>\n",
       "      <td>2016.000000</td>\n",
       "      <td>17357.500000</td>\n",
       "      <td>6322.000000</td>\n",
       "      <td>125.000000</td>\n",
       "      <td>45.600000</td>\n",
       "      <td>1.675000</td>\n",
       "    </tr>\n",
       "    <tr>\n",
       "      <th>50%</th>\n",
       "      <td>2018.000000</td>\n",
       "      <td>22299.000000</td>\n",
       "      <td>15369.500000</td>\n",
       "      <td>145.000000</td>\n",
       "      <td>56.500000</td>\n",
       "      <td>2.000000</td>\n",
       "    </tr>\n",
       "    <tr>\n",
       "      <th>75%</th>\n",
       "      <td>2019.000000</td>\n",
       "      <td>28706.000000</td>\n",
       "      <td>31982.250000</td>\n",
       "      <td>145.000000</td>\n",
       "      <td>64.200000</td>\n",
       "      <td>2.100000</td>\n",
       "    </tr>\n",
       "    <tr>\n",
       "      <th>max</th>\n",
       "      <td>2020.000000</td>\n",
       "      <td>65990.000000</td>\n",
       "      <td>259000.000000</td>\n",
       "      <td>580.000000</td>\n",
       "      <td>217.300000</td>\n",
       "      <td>6.200000</td>\n",
       "    </tr>\n",
       "  </tbody>\n",
       "</table>\n",
       "</div>"
      ],
      "text/plain": [
       "               year         price        mileage           tax           mpg  \\\n",
       "count  12988.000000  12988.000000   12988.000000  12988.000000  12988.000000   \n",
       "mean    2017.281876  24074.926933   22132.741146    129.689714     55.437142   \n",
       "std        2.228515   9866.224575   21196.776401     65.183076     15.025999   \n",
       "min     1970.000000    650.000000       1.000000      0.000000      1.100000   \n",
       "25%     2016.000000  17357.500000    6322.000000    125.000000     45.600000   \n",
       "50%     2018.000000  22299.000000   15369.500000    145.000000     56.500000   \n",
       "75%     2019.000000  28706.000000   31982.250000    145.000000     64.200000   \n",
       "max     2020.000000  65990.000000  259000.000000    580.000000    217.300000   \n",
       "\n",
       "         engineSize  \n",
       "count  12988.000000  \n",
       "mean       2.050901  \n",
       "std        0.532596  \n",
       "min        0.000000  \n",
       "25%        1.675000  \n",
       "50%        2.000000  \n",
       "75%        2.100000  \n",
       "max        6.200000  "
      ]
     },
     "execution_count": 83,
     "metadata": {},
     "output_type": "execute_result"
    }
   ],
   "source": [
    "dataFrame.describe()                                #orjinal veri, verinin %99 una eşitlendi."
   ]
  },
  {
   "cell_type": "code",
   "execution_count": 84,
   "id": "c324e50a",
   "metadata": {},
   "outputs": [],
   "source": [
    "dataFrame=dataFrame[dataFrame.year!=1970]"
   ]
  },
  {
   "cell_type": "code",
   "execution_count": 85,
   "id": "4936c840",
   "metadata": {},
   "outputs": [
    {
     "data": {
      "text/plain": [
       "year\n",
       "1997     9995.000000\n",
       "1998     8605.000000\n",
       "1999     5995.000000\n",
       "2000     5743.333333\n",
       "2001     4957.900000\n",
       "2002     5820.444444\n",
       "2003     4878.000000\n",
       "2004     4727.615385\n",
       "2005     4426.111111\n",
       "2006     4036.875000\n",
       "2007     5136.045455\n",
       "2008     6967.437500\n",
       "2009     6166.764706\n",
       "2010     8308.473684\n",
       "2011     8913.459459\n",
       "2012    10845.140351\n",
       "2013    11939.842466\n",
       "2014    14042.936864\n",
       "2015    16647.822222\n",
       "2016    19223.558943\n",
       "2017    21356.280421\n",
       "2018    24800.844506\n",
       "2019    30289.524832\n",
       "2020    34234.794872\n",
       "Name: price, dtype: float64"
      ]
     },
     "execution_count": 85,
     "metadata": {},
     "output_type": "execute_result"
    }
   ],
   "source": [
    "dataFrame.groupby(\"year\").mean()[\"price\"]"
   ]
  },
  {
   "cell_type": "markdown",
   "id": "eff05ebd",
   "metadata": {},
   "source": [
    "## Veri temizliğimizi bitirmeden veride gereksiz olan bir kolon daha var. Oda transmission kolonu. Bunu bu şekilde modele regresyona aldığımızda numerik bir kolon olmadığından ötürü hata alınacaktır. "
   ]
  },
  {
   "cell_type": "code",
   "execution_count": 86,
   "id": "6ab28f63",
   "metadata": {},
   "outputs": [
    {
     "data": {
      "text/html": [
       "<div>\n",
       "<style scoped>\n",
       "    .dataframe tbody tr th:only-of-type {\n",
       "        vertical-align: middle;\n",
       "    }\n",
       "\n",
       "    .dataframe tbody tr th {\n",
       "        vertical-align: top;\n",
       "    }\n",
       "\n",
       "    .dataframe thead th {\n",
       "        text-align: right;\n",
       "    }\n",
       "</style>\n",
       "<table border=\"1\" class=\"dataframe\">\n",
       "  <thead>\n",
       "    <tr style=\"text-align: right;\">\n",
       "      <th></th>\n",
       "      <th>year</th>\n",
       "      <th>price</th>\n",
       "      <th>transmission</th>\n",
       "      <th>mileage</th>\n",
       "      <th>tax</th>\n",
       "      <th>mpg</th>\n",
       "      <th>engineSize</th>\n",
       "    </tr>\n",
       "  </thead>\n",
       "  <tbody>\n",
       "    <tr>\n",
       "      <th>6177</th>\n",
       "      <td>2019</td>\n",
       "      <td>65990</td>\n",
       "      <td>Semi-Auto</td>\n",
       "      <td>5076</td>\n",
       "      <td>150</td>\n",
       "      <td>30.4</td>\n",
       "      <td>3.0</td>\n",
       "    </tr>\n",
       "    <tr>\n",
       "      <th>5779</th>\n",
       "      <td>2020</td>\n",
       "      <td>65990</td>\n",
       "      <td>Semi-Auto</td>\n",
       "      <td>999</td>\n",
       "      <td>145</td>\n",
       "      <td>28.0</td>\n",
       "      <td>4.0</td>\n",
       "    </tr>\n",
       "    <tr>\n",
       "      <th>3191</th>\n",
       "      <td>2020</td>\n",
       "      <td>65980</td>\n",
       "      <td>Semi-Auto</td>\n",
       "      <td>3999</td>\n",
       "      <td>145</td>\n",
       "      <td>28.0</td>\n",
       "      <td>4.0</td>\n",
       "    </tr>\n",
       "    <tr>\n",
       "      <th>4727</th>\n",
       "      <td>2019</td>\n",
       "      <td>65000</td>\n",
       "      <td>Semi-Auto</td>\n",
       "      <td>3398</td>\n",
       "      <td>145</td>\n",
       "      <td>27.2</td>\n",
       "      <td>4.0</td>\n",
       "    </tr>\n",
       "    <tr>\n",
       "      <th>8814</th>\n",
       "      <td>2019</td>\n",
       "      <td>64999</td>\n",
       "      <td>Semi-Auto</td>\n",
       "      <td>119</td>\n",
       "      <td>145</td>\n",
       "      <td>40.9</td>\n",
       "      <td>3.0</td>\n",
       "    </tr>\n",
       "  </tbody>\n",
       "</table>\n",
       "</div>"
      ],
      "text/plain": [
       "      year  price transmission  mileage  tax   mpg  engineSize\n",
       "6177  2019  65990    Semi-Auto     5076  150  30.4         3.0\n",
       "5779  2020  65990    Semi-Auto      999  145  28.0         4.0\n",
       "3191  2020  65980    Semi-Auto     3999  145  28.0         4.0\n",
       "4727  2019  65000    Semi-Auto     3398  145  27.2         4.0\n",
       "8814  2019  64999    Semi-Auto      119  145  40.9         3.0"
      ]
     },
     "execution_count": 86,
     "metadata": {},
     "output_type": "execute_result"
    }
   ],
   "source": [
    "dataFrame.head(5)"
   ]
  },
  {
   "cell_type": "markdown",
   "id": "94cfb1ba",
   "metadata": {},
   "source": [
    "## Tranmission kolonunu atalım :"
   ]
  },
  {
   "cell_type": "code",
   "execution_count": 87,
   "id": "e607c20f",
   "metadata": {},
   "outputs": [],
   "source": [
    "dataFrame=dataFrame.drop(\"transmission\",axis=1)"
   ]
  },
  {
   "cell_type": "code",
   "execution_count": 88,
   "id": "15ed4b25",
   "metadata": {},
   "outputs": [
    {
     "data": {
      "text/html": [
       "<div>\n",
       "<style scoped>\n",
       "    .dataframe tbody tr th:only-of-type {\n",
       "        vertical-align: middle;\n",
       "    }\n",
       "\n",
       "    .dataframe tbody tr th {\n",
       "        vertical-align: top;\n",
       "    }\n",
       "\n",
       "    .dataframe thead th {\n",
       "        text-align: right;\n",
       "    }\n",
       "</style>\n",
       "<table border=\"1\" class=\"dataframe\">\n",
       "  <thead>\n",
       "    <tr style=\"text-align: right;\">\n",
       "      <th></th>\n",
       "      <th>year</th>\n",
       "      <th>price</th>\n",
       "      <th>mileage</th>\n",
       "      <th>tax</th>\n",
       "      <th>mpg</th>\n",
       "      <th>engineSize</th>\n",
       "    </tr>\n",
       "  </thead>\n",
       "  <tbody>\n",
       "    <tr>\n",
       "      <th>6177</th>\n",
       "      <td>2019</td>\n",
       "      <td>65990</td>\n",
       "      <td>5076</td>\n",
       "      <td>150</td>\n",
       "      <td>30.4</td>\n",
       "      <td>3.0</td>\n",
       "    </tr>\n",
       "    <tr>\n",
       "      <th>5779</th>\n",
       "      <td>2020</td>\n",
       "      <td>65990</td>\n",
       "      <td>999</td>\n",
       "      <td>145</td>\n",
       "      <td>28.0</td>\n",
       "      <td>4.0</td>\n",
       "    </tr>\n",
       "    <tr>\n",
       "      <th>3191</th>\n",
       "      <td>2020</td>\n",
       "      <td>65980</td>\n",
       "      <td>3999</td>\n",
       "      <td>145</td>\n",
       "      <td>28.0</td>\n",
       "      <td>4.0</td>\n",
       "    </tr>\n",
       "    <tr>\n",
       "      <th>4727</th>\n",
       "      <td>2019</td>\n",
       "      <td>65000</td>\n",
       "      <td>3398</td>\n",
       "      <td>145</td>\n",
       "      <td>27.2</td>\n",
       "      <td>4.0</td>\n",
       "    </tr>\n",
       "    <tr>\n",
       "      <th>8814</th>\n",
       "      <td>2019</td>\n",
       "      <td>64999</td>\n",
       "      <td>119</td>\n",
       "      <td>145</td>\n",
       "      <td>40.9</td>\n",
       "      <td>3.0</td>\n",
       "    </tr>\n",
       "    <tr>\n",
       "      <th>...</th>\n",
       "      <td>...</td>\n",
       "      <td>...</td>\n",
       "      <td>...</td>\n",
       "      <td>...</td>\n",
       "      <td>...</td>\n",
       "      <td>...</td>\n",
       "    </tr>\n",
       "    <tr>\n",
       "      <th>11549</th>\n",
       "      <td>2002</td>\n",
       "      <td>1495</td>\n",
       "      <td>13800</td>\n",
       "      <td>305</td>\n",
       "      <td>39.8</td>\n",
       "      <td>2.7</td>\n",
       "    </tr>\n",
       "    <tr>\n",
       "      <th>12594</th>\n",
       "      <td>2004</td>\n",
       "      <td>1495</td>\n",
       "      <td>119000</td>\n",
       "      <td>300</td>\n",
       "      <td>34.5</td>\n",
       "      <td>1.8</td>\n",
       "    </tr>\n",
       "    <tr>\n",
       "      <th>11765</th>\n",
       "      <td>2000</td>\n",
       "      <td>1490</td>\n",
       "      <td>87000</td>\n",
       "      <td>265</td>\n",
       "      <td>27.2</td>\n",
       "      <td>3.2</td>\n",
       "    </tr>\n",
       "    <tr>\n",
       "      <th>12008</th>\n",
       "      <td>2010</td>\n",
       "      <td>1350</td>\n",
       "      <td>116126</td>\n",
       "      <td>145</td>\n",
       "      <td>54.3</td>\n",
       "      <td>2.0</td>\n",
       "    </tr>\n",
       "    <tr>\n",
       "      <th>11816</th>\n",
       "      <td>2003</td>\n",
       "      <td>650</td>\n",
       "      <td>109090</td>\n",
       "      <td>235</td>\n",
       "      <td>40.0</td>\n",
       "      <td>1.4</td>\n",
       "    </tr>\n",
       "  </tbody>\n",
       "</table>\n",
       "<p>12987 rows × 6 columns</p>\n",
       "</div>"
      ],
      "text/plain": [
       "       year  price  mileage  tax   mpg  engineSize\n",
       "6177   2019  65990     5076  150  30.4         3.0\n",
       "5779   2020  65990      999  145  28.0         4.0\n",
       "3191   2020  65980     3999  145  28.0         4.0\n",
       "4727   2019  65000     3398  145  27.2         4.0\n",
       "8814   2019  64999      119  145  40.9         3.0\n",
       "...     ...    ...      ...  ...   ...         ...\n",
       "11549  2002   1495    13800  305  39.8         2.7\n",
       "12594  2004   1495   119000  300  34.5         1.8\n",
       "11765  2000   1490    87000  265  27.2         3.2\n",
       "12008  2010   1350   116126  145  54.3         2.0\n",
       "11816  2003    650   109090  235  40.0         1.4\n",
       "\n",
       "[12987 rows x 6 columns]"
      ]
     },
     "execution_count": 88,
     "metadata": {},
     "output_type": "execute_result"
    }
   ],
   "source": [
    "dataFrame"
   ]
  },
  {
   "cell_type": "markdown",
   "id": "ab655274",
   "metadata": {},
   "source": [
    "## Kolonda atıldı ve veri temizliği tamamlandı. Artık verimiz regresyona girmeye hazır :"
   ]
  },
  {
   "cell_type": "markdown",
   "id": "ec4f75e5",
   "metadata": {},
   "source": [
    "## x ve y değerlerini yazalım :"
   ]
  },
  {
   "cell_type": "code",
   "execution_count": 89,
   "id": "0de6ea2f",
   "metadata": {},
   "outputs": [],
   "source": [
    "x=dataFrame.drop(\"price\",axis=1).values                           # price harici tüm parametreler ---->x\n",
    "y=dataFrame[\"price\"].values"
   ]
  },
  {
   "cell_type": "code",
   "execution_count": 90,
   "id": "ff1bd1eb",
   "metadata": {},
   "outputs": [
    {
     "data": {
      "text/plain": [
       "array([[2.01900e+03, 5.07600e+03, 1.50000e+02, 3.04000e+01, 3.00000e+00],\n",
       "       [2.02000e+03, 9.99000e+02, 1.45000e+02, 2.80000e+01, 4.00000e+00],\n",
       "       [2.02000e+03, 3.99900e+03, 1.45000e+02, 2.80000e+01, 4.00000e+00],\n",
       "       ...,\n",
       "       [2.00000e+03, 8.70000e+04, 2.65000e+02, 2.72000e+01, 3.20000e+00],\n",
       "       [2.01000e+03, 1.16126e+05, 1.45000e+02, 5.43000e+01, 2.00000e+00],\n",
       "       [2.00300e+03, 1.09090e+05, 2.35000e+02, 4.00000e+01, 1.40000e+00]])"
      ]
     },
     "execution_count": 90,
     "metadata": {},
     "output_type": "execute_result"
    }
   ],
   "source": [
    "x"
   ]
  },
  {
   "cell_type": "code",
   "execution_count": 91,
   "id": "d05dcc14",
   "metadata": {},
   "outputs": [
    {
     "data": {
      "text/plain": [
       "array([65990, 65990, 65980, ...,  1490,  1350,   650], dtype=int64)"
      ]
     },
     "execution_count": 91,
     "metadata": {},
     "output_type": "execute_result"
    }
   ],
   "source": [
    "y"
   ]
  },
  {
   "cell_type": "code",
   "execution_count": 92,
   "id": "58776f88",
   "metadata": {},
   "outputs": [],
   "source": [
    "from sklearn.model_selection import train_test_split"
   ]
  },
  {
   "cell_type": "code",
   "execution_count": 93,
   "id": "d06ba8fc",
   "metadata": {},
   "outputs": [],
   "source": [
    "x_train,x_test,y_train,y_test= train_test_split(x,y,test_size=0.30,random_state=10)"
   ]
  },
  {
   "cell_type": "code",
   "execution_count": 94,
   "id": "0c5bd67c",
   "metadata": {},
   "outputs": [
    {
     "data": {
      "text/plain": [
       "9090"
      ]
     },
     "execution_count": 94,
     "metadata": {},
     "output_type": "execute_result"
    }
   ],
   "source": [
    "len(x_train)"
   ]
  },
  {
   "cell_type": "code",
   "execution_count": 95,
   "id": "4b472915",
   "metadata": {},
   "outputs": [
    {
     "data": {
      "text/plain": [
       "3897"
      ]
     },
     "execution_count": 95,
     "metadata": {},
     "output_type": "execute_result"
    }
   ],
   "source": [
    "len(x_test)"
   ]
  },
  {
   "cell_type": "code",
   "execution_count": 96,
   "id": "7a72d2cf",
   "metadata": {},
   "outputs": [],
   "source": [
    "from sklearn.preprocessing import MinMaxScaler"
   ]
  },
  {
   "cell_type": "code",
   "execution_count": 97,
   "id": "b13c1f1a",
   "metadata": {},
   "outputs": [],
   "source": [
    "scaler=MinMaxScaler()"
   ]
  },
  {
   "cell_type": "code",
   "execution_count": 98,
   "id": "34c65497",
   "metadata": {},
   "outputs": [],
   "source": [
    "x_train=scaler.fit_transform(x_train)"
   ]
  },
  {
   "cell_type": "code",
   "execution_count": 99,
   "id": "47da9fb0",
   "metadata": {},
   "outputs": [],
   "source": [
    "x_test=scaler.transform(x_test)"
   ]
  },
  {
   "cell_type": "code",
   "execution_count": 100,
   "id": "e6d005ee",
   "metadata": {},
   "outputs": [],
   "source": [
    "from tensorflow.keras.models import Sequential         # Modeli oluşturuyoruz.\n",
    "from tensorflow.keras.layers import Dense              # Katmanları oluşturuyoruz."
   ]
  },
  {
   "cell_type": "code",
   "execution_count": 101,
   "id": "224648bc",
   "metadata": {},
   "outputs": [],
   "source": [
    "model=Sequential()\n",
    "\n",
    "model.add(Dense(12,activation=\"relu\"))\n",
    "model.add(Dense(12,activation=\"relu\"))\n",
    "model.add(Dense(12,activation=\"relu\"))\n",
    "model.add(Dense(12,activation=\"relu\"))\n",
    "\n",
    "model.add(Dense(1))                                    # Çıkış katmanına 1 katman eklnedi.\n",
    "model.compile(optimizer=\"adam\",loss=\"mse\")"
   ]
  },
  {
   "cell_type": "markdown",
   "id": "af4c66b4",
   "metadata": {},
   "source": [
    "## Modeli oluşturduk. Şimdi modeli eğitelim :"
   ]
  },
  {
   "cell_type": "code",
   "execution_count": 102,
   "id": "95d0df26",
   "metadata": {},
   "outputs": [
    {
     "name": "stdout",
     "output_type": "stream",
     "text": [
      "Epoch 1/300\n",
      "37/37 [==============================] - 2s 14ms/step - loss: 672145088.0000 - val_loss: 688103680.0000\n",
      "Epoch 2/300\n",
      "37/37 [==============================] - 0s 6ms/step - loss: 672122688.0000 - val_loss: 688061120.0000\n",
      "Epoch 3/300\n",
      "37/37 [==============================] - 0s 6ms/step - loss: 672039424.0000 - val_loss: 687911744.0000\n",
      "Epoch 4/300\n",
      "37/37 [==============================] - 0s 6ms/step - loss: 671783552.0000 - val_loss: 687489728.0000\n",
      "Epoch 5/300\n",
      "37/37 [==============================] - 0s 6ms/step - loss: 671098816.0000 - val_loss: 686394880.0000\n",
      "Epoch 6/300\n",
      "37/37 [==============================] - 0s 6ms/step - loss: 669403904.0000 - val_loss: 683803328.0000\n",
      "Epoch 7/300\n",
      "37/37 [==============================] - 0s 5ms/step - loss: 665627648.0000 - val_loss: 678345408.0000\n",
      "Epoch 8/300\n",
      "37/37 [==============================] - 0s 5ms/step - loss: 658143424.0000 - val_loss: 668003328.0000\n",
      "Epoch 9/300\n",
      "37/37 [==============================] - 0s 5ms/step - loss: 644640960.0000 - val_loss: 650112448.0000\n",
      "Epoch 10/300\n",
      "37/37 [==============================] - 0s 6ms/step - loss: 622220544.0000 - val_loss: 621543872.0000\n",
      "Epoch 11/300\n",
      "37/37 [==============================] - 0s 6ms/step - loss: 587715968.0000 - val_loss: 579121728.0000\n",
      "Epoch 12/300\n",
      "37/37 [==============================] - 0s 6ms/step - loss: 538105088.0000 - val_loss: 519678208.0000\n",
      "Epoch 13/300\n",
      "37/37 [==============================] - 0s 6ms/step - loss: 471541728.0000 - val_loss: 443453312.0000\n",
      "Epoch 14/300\n",
      "37/37 [==============================] - 0s 6ms/step - loss: 390218176.0000 - val_loss: 355097344.0000\n",
      "Epoch 15/300\n",
      "37/37 [==============================] - 0s 6ms/step - loss: 301563072.0000 - val_loss: 264777664.0000\n",
      "Epoch 16/300\n",
      "37/37 [==============================] - 0s 6ms/step - loss: 217529264.0000 - val_loss: 186032160.0000\n",
      "Epoch 17/300\n",
      "37/37 [==============================] - 0s 6ms/step - loss: 151781856.0000 - val_loss: 131688800.0000\n",
      "Epoch 18/300\n",
      "37/37 [==============================] - 0s 6ms/step - loss: 111953680.0000 - val_loss: 103340304.0000\n",
      "Epoch 19/300\n",
      "37/37 [==============================] - 0s 7ms/step - loss: 94352208.0000 - val_loss: 92799976.0000\n",
      "Epoch 20/300\n",
      "37/37 [==============================] - 0s 6ms/step - loss: 88767072.0000 - val_loss: 89482928.0000\n",
      "Epoch 21/300\n",
      "37/37 [==============================] - 0s 6ms/step - loss: 87114744.0000 - val_loss: 88318016.0000\n",
      "Epoch 22/300\n",
      "37/37 [==============================] - 0s 6ms/step - loss: 86410000.0000 - val_loss: 87708616.0000\n",
      "Epoch 23/300\n",
      "37/37 [==============================] - 0s 7ms/step - loss: 85895280.0000 - val_loss: 87188256.0000\n",
      "Epoch 24/300\n",
      "37/37 [==============================] - 0s 6ms/step - loss: 85408528.0000 - val_loss: 86697328.0000\n",
      "Epoch 25/300\n",
      "37/37 [==============================] - 0s 6ms/step - loss: 84951448.0000 - val_loss: 86244536.0000\n",
      "Epoch 26/300\n",
      "37/37 [==============================] - 0s 6ms/step - loss: 84510824.0000 - val_loss: 85810664.0000\n",
      "Epoch 27/300\n",
      "37/37 [==============================] - 0s 6ms/step - loss: 84084000.0000 - val_loss: 85415728.0000\n",
      "Epoch 28/300\n",
      "37/37 [==============================] - 0s 6ms/step - loss: 83661624.0000 - val_loss: 84955920.0000\n",
      "Epoch 29/300\n",
      "37/37 [==============================] - 0s 6ms/step - loss: 83250288.0000 - val_loss: 84546752.0000\n",
      "Epoch 30/300\n",
      "37/37 [==============================] - 0s 6ms/step - loss: 82840232.0000 - val_loss: 84155512.0000\n",
      "Epoch 31/300\n",
      "37/37 [==============================] - 0s 5ms/step - loss: 82434104.0000 - val_loss: 83756232.0000\n",
      "Epoch 32/300\n",
      "37/37 [==============================] - 0s 6ms/step - loss: 82043760.0000 - val_loss: 83379736.0000\n",
      "Epoch 33/300\n",
      "37/37 [==============================] - 0s 7ms/step - loss: 81647560.0000 - val_loss: 82966288.0000\n",
      "Epoch 34/300\n",
      "37/37 [==============================] - 0s 6ms/step - loss: 81268832.0000 - val_loss: 82589744.0000\n",
      "Epoch 35/300\n",
      "37/37 [==============================] - 0s 6ms/step - loss: 80864208.0000 - val_loss: 82191216.0000\n",
      "Epoch 36/300\n",
      "37/37 [==============================] - 0s 6ms/step - loss: 80480024.0000 - val_loss: 81833640.0000\n",
      "Epoch 37/300\n",
      "37/37 [==============================] - 0s 6ms/step - loss: 80096832.0000 - val_loss: 81435784.0000\n",
      "Epoch 38/300\n",
      "37/37 [==============================] - 0s 6ms/step - loss: 79711016.0000 - val_loss: 81035752.0000\n",
      "Epoch 39/300\n",
      "37/37 [==============================] - 0s 6ms/step - loss: 79323496.0000 - val_loss: 80671920.0000\n",
      "Epoch 40/300\n",
      "37/37 [==============================] - 0s 6ms/step - loss: 78947296.0000 - val_loss: 80319776.0000\n",
      "Epoch 41/300\n",
      "37/37 [==============================] - 0s 6ms/step - loss: 78561384.0000 - val_loss: 79936992.0000\n",
      "Epoch 42/300\n",
      "37/37 [==============================] - 0s 6ms/step - loss: 78182392.0000 - val_loss: 79513592.0000\n",
      "Epoch 43/300\n",
      "37/37 [==============================] - 0s 6ms/step - loss: 77796128.0000 - val_loss: 79157832.0000\n",
      "Epoch 44/300\n",
      "37/37 [==============================] - 0s 6ms/step - loss: 77419432.0000 - val_loss: 78773768.0000\n",
      "Epoch 45/300\n",
      "37/37 [==============================] - 0s 6ms/step - loss: 77028552.0000 - val_loss: 78406416.0000\n",
      "Epoch 46/300\n",
      "37/37 [==============================] - 0s 6ms/step - loss: 76653792.0000 - val_loss: 78031080.0000\n",
      "Epoch 47/300\n",
      "37/37 [==============================] - 0s 6ms/step - loss: 76261392.0000 - val_loss: 77637288.0000\n",
      "Epoch 48/300\n",
      "37/37 [==============================] - 0s 6ms/step - loss: 75882560.0000 - val_loss: 77264400.0000\n",
      "Epoch 49/300\n",
      "37/37 [==============================] - 0s 6ms/step - loss: 75488744.0000 - val_loss: 76877848.0000\n",
      "Epoch 50/300\n",
      "37/37 [==============================] - 0s 6ms/step - loss: 75107144.0000 - val_loss: 76490712.0000\n",
      "Epoch 51/300\n",
      "37/37 [==============================] - 0s 6ms/step - loss: 74717928.0000 - val_loss: 76106168.0000\n",
      "Epoch 52/300\n",
      "37/37 [==============================] - 0s 6ms/step - loss: 74327216.0000 - val_loss: 75717800.0000\n",
      "Epoch 53/300\n",
      "37/37 [==============================] - 0s 5ms/step - loss: 73940088.0000 - val_loss: 75331272.0000\n",
      "Epoch 54/300\n",
      "37/37 [==============================] - 0s 6ms/step - loss: 73550656.0000 - val_loss: 74934216.0000\n",
      "Epoch 55/300\n",
      "37/37 [==============================] - 0s 6ms/step - loss: 73154736.0000 - val_loss: 74554152.0000\n",
      "Epoch 56/300\n",
      "37/37 [==============================] - 0s 6ms/step - loss: 72765792.0000 - val_loss: 74156544.0000\n",
      "Epoch 57/300\n",
      "37/37 [==============================] - 0s 6ms/step - loss: 72365872.0000 - val_loss: 73788568.0000\n",
      "Epoch 58/300\n",
      "37/37 [==============================] - 0s 6ms/step - loss: 71967304.0000 - val_loss: 73370952.0000\n",
      "Epoch 59/300\n",
      "37/37 [==============================] - 0s 6ms/step - loss: 71566272.0000 - val_loss: 72983344.0000\n",
      "Epoch 60/300\n",
      "37/37 [==============================] - 0s 5ms/step - loss: 71164528.0000 - val_loss: 72617464.0000\n",
      "Epoch 61/300\n",
      "37/37 [==============================] - 0s 6ms/step - loss: 70751584.0000 - val_loss: 72178192.0000\n",
      "Epoch 62/300\n",
      "37/37 [==============================] - 0s 6ms/step - loss: 70352672.0000 - val_loss: 71766352.0000\n",
      "Epoch 63/300\n",
      "37/37 [==============================] - 0s 6ms/step - loss: 69930656.0000 - val_loss: 71394264.0000\n",
      "Epoch 64/300\n",
      "37/37 [==============================] - 0s 6ms/step - loss: 69521984.0000 - val_loss: 70961472.0000\n",
      "Epoch 65/300\n",
      "37/37 [==============================] - 0s 6ms/step - loss: 69099872.0000 - val_loss: 70532968.0000\n",
      "Epoch 66/300\n",
      "37/37 [==============================] - 0s 6ms/step - loss: 68683928.0000 - val_loss: 70125376.0000\n",
      "Epoch 67/300\n",
      "37/37 [==============================] - 0s 5ms/step - loss: 68264824.0000 - val_loss: 69725880.0000\n",
      "Epoch 68/300\n",
      "37/37 [==============================] - 0s 6ms/step - loss: 67828984.0000 - val_loss: 69271288.0000\n",
      "Epoch 69/300\n",
      "37/37 [==============================] - 0s 6ms/step - loss: 67396048.0000 - val_loss: 68880632.0000\n",
      "Epoch 70/300\n",
      "37/37 [==============================] - 0s 6ms/step - loss: 66973128.0000 - val_loss: 68429896.0000\n",
      "Epoch 71/300\n",
      "37/37 [==============================] - 0s 6ms/step - loss: 66530512.0000 - val_loss: 67991336.0000\n",
      "Epoch 72/300\n"
     ]
    },
    {
     "name": "stdout",
     "output_type": "stream",
     "text": [
      "37/37 [==============================] - 0s 6ms/step - loss: 66099660.0000 - val_loss: 67537624.0000\n",
      "Epoch 73/300\n",
      "37/37 [==============================] - 0s 6ms/step - loss: 65638932.0000 - val_loss: 67093732.0000\n",
      "Epoch 74/300\n",
      "37/37 [==============================] - 0s 6ms/step - loss: 65176084.0000 - val_loss: 66647700.0000\n",
      "Epoch 75/300\n",
      "37/37 [==============================] - 0s 6ms/step - loss: 64731032.0000 - val_loss: 66184468.0000\n",
      "Epoch 76/300\n",
      "37/37 [==============================] - 0s 6ms/step - loss: 64263880.0000 - val_loss: 65727960.0000\n",
      "Epoch 77/300\n",
      "37/37 [==============================] - 0s 6ms/step - loss: 63797480.0000 - val_loss: 65246732.0000\n",
      "Epoch 78/300\n",
      "37/37 [==============================] - 0s 6ms/step - loss: 63315908.0000 - val_loss: 64796640.0000\n",
      "Epoch 79/300\n",
      "37/37 [==============================] - 0s 6ms/step - loss: 62838636.0000 - val_loss: 64301428.0000\n",
      "Epoch 80/300\n",
      "37/37 [==============================] - 0s 6ms/step - loss: 62344716.0000 - val_loss: 63834936.0000\n",
      "Epoch 81/300\n",
      "37/37 [==============================] - 0s 6ms/step - loss: 61851608.0000 - val_loss: 63313340.0000\n",
      "Epoch 82/300\n",
      "37/37 [==============================] - 0s 6ms/step - loss: 61367940.0000 - val_loss: 62815792.0000\n",
      "Epoch 83/300\n",
      "37/37 [==============================] - 0s 6ms/step - loss: 60854120.0000 - val_loss: 62342096.0000\n",
      "Epoch 84/300\n",
      "37/37 [==============================] - 0s 6ms/step - loss: 60341864.0000 - val_loss: 61809424.0000\n",
      "Epoch 85/300\n",
      "37/37 [==============================] - 0s 6ms/step - loss: 59813916.0000 - val_loss: 61304672.0000\n",
      "Epoch 86/300\n",
      "37/37 [==============================] - 0s 6ms/step - loss: 59297364.0000 - val_loss: 60745140.0000\n",
      "Epoch 87/300\n",
      "37/37 [==============================] - 0s 6ms/step - loss: 58762740.0000 - val_loss: 60245836.0000\n",
      "Epoch 88/300\n",
      "37/37 [==============================] - 0s 6ms/step - loss: 58216056.0000 - val_loss: 59668444.0000\n",
      "Epoch 89/300\n",
      "37/37 [==============================] - 0s 6ms/step - loss: 57655116.0000 - val_loss: 59101756.0000\n",
      "Epoch 90/300\n",
      "37/37 [==============================] - 0s 6ms/step - loss: 57085972.0000 - val_loss: 58552016.0000\n",
      "Epoch 91/300\n",
      "37/37 [==============================] - 0s 6ms/step - loss: 56514576.0000 - val_loss: 57961820.0000\n",
      "Epoch 92/300\n",
      "37/37 [==============================] - 0s 6ms/step - loss: 55939740.0000 - val_loss: 57384980.0000\n",
      "Epoch 93/300\n",
      "37/37 [==============================] - 0s 5ms/step - loss: 55350160.0000 - val_loss: 56807100.0000\n",
      "Epoch 94/300\n",
      "37/37 [==============================] - 0s 6ms/step - loss: 54744172.0000 - val_loss: 56177060.0000\n",
      "Epoch 95/300\n",
      "37/37 [==============================] - 0s 6ms/step - loss: 54165656.0000 - val_loss: 55594592.0000\n",
      "Epoch 96/300\n",
      "37/37 [==============================] - 0s 5ms/step - loss: 53522752.0000 - val_loss: 54937040.0000\n",
      "Epoch 97/300\n",
      "37/37 [==============================] - 0s 6ms/step - loss: 52891512.0000 - val_loss: 54319476.0000\n",
      "Epoch 98/300\n",
      "37/37 [==============================] - 0s 6ms/step - loss: 52259600.0000 - val_loss: 53690648.0000\n",
      "Epoch 99/300\n",
      "37/37 [==============================] - 0s 6ms/step - loss: 51615724.0000 - val_loss: 53002996.0000\n",
      "Epoch 100/300\n",
      "37/37 [==============================] - 0s 6ms/step - loss: 50962132.0000 - val_loss: 52344420.0000\n",
      "Epoch 101/300\n",
      "37/37 [==============================] - 0s 6ms/step - loss: 50295048.0000 - val_loss: 51667244.0000\n",
      "Epoch 102/300\n",
      "37/37 [==============================] - 0s 6ms/step - loss: 49625912.0000 - val_loss: 50996476.0000\n",
      "Epoch 103/300\n",
      "37/37 [==============================] - 0s 6ms/step - loss: 48940852.0000 - val_loss: 50278412.0000\n",
      "Epoch 104/300\n",
      "37/37 [==============================] - 0s 6ms/step - loss: 48256460.0000 - val_loss: 49591388.0000\n",
      "Epoch 105/300\n",
      "37/37 [==============================] - 0s 6ms/step - loss: 47561480.0000 - val_loss: 48876364.0000\n",
      "Epoch 106/300\n",
      "37/37 [==============================] - 0s 6ms/step - loss: 46857308.0000 - val_loss: 48158924.0000\n",
      "Epoch 107/300\n",
      "37/37 [==============================] - 0s 6ms/step - loss: 46154912.0000 - val_loss: 47432324.0000\n",
      "Epoch 108/300\n",
      "37/37 [==============================] - 0s 6ms/step - loss: 45442716.0000 - val_loss: 46697688.0000\n",
      "Epoch 109/300\n",
      "37/37 [==============================] - 0s 6ms/step - loss: 44718440.0000 - val_loss: 45974932.0000\n",
      "Epoch 110/300\n",
      "37/37 [==============================] - 0s 6ms/step - loss: 44006972.0000 - val_loss: 45235856.0000\n",
      "Epoch 111/300\n",
      "37/37 [==============================] - 0s 6ms/step - loss: 43297640.0000 - val_loss: 44491856.0000\n",
      "Epoch 112/300\n",
      "37/37 [==============================] - 0s 6ms/step - loss: 42568388.0000 - val_loss: 43790300.0000\n",
      "Epoch 113/300\n",
      "37/37 [==============================] - 0s 6ms/step - loss: 41887504.0000 - val_loss: 43051976.0000\n",
      "Epoch 114/300\n",
      "37/37 [==============================] - 0s 6ms/step - loss: 41200140.0000 - val_loss: 42317400.0000\n",
      "Epoch 115/300\n",
      "37/37 [==============================] - 0s 5ms/step - loss: 40492144.0000 - val_loss: 41614456.0000\n",
      "Epoch 116/300\n",
      "37/37 [==============================] - 0s 6ms/step - loss: 39810064.0000 - val_loss: 40902804.0000\n",
      "Epoch 117/300\n",
      "37/37 [==============================] - 0s 6ms/step - loss: 39151332.0000 - val_loss: 40202744.0000\n",
      "Epoch 118/300\n",
      "37/37 [==============================] - 0s 6ms/step - loss: 38509700.0000 - val_loss: 39565048.0000\n",
      "Epoch 119/300\n",
      "37/37 [==============================] - 0s 6ms/step - loss: 37899948.0000 - val_loss: 38910288.0000\n",
      "Epoch 120/300\n",
      "37/37 [==============================] - 0s 6ms/step - loss: 37260936.0000 - val_loss: 38250724.0000\n",
      "Epoch 121/300\n",
      "37/37 [==============================] - 0s 6ms/step - loss: 36675412.0000 - val_loss: 37634012.0000\n",
      "Epoch 122/300\n",
      "37/37 [==============================] - 0s 6ms/step - loss: 36080832.0000 - val_loss: 37040296.0000\n",
      "Epoch 123/300\n",
      "37/37 [==============================] - 0s 6ms/step - loss: 35533300.0000 - val_loss: 36466788.0000\n",
      "Epoch 124/300\n",
      "37/37 [==============================] - 0s 6ms/step - loss: 34984308.0000 - val_loss: 35890648.0000\n",
      "Epoch 125/300\n",
      "37/37 [==============================] - 0s 6ms/step - loss: 34469984.0000 - val_loss: 35375128.0000\n",
      "Epoch 126/300\n",
      "37/37 [==============================] - 0s 6ms/step - loss: 33965184.0000 - val_loss: 34810944.0000\n",
      "Epoch 127/300\n",
      "37/37 [==============================] - 0s 6ms/step - loss: 33468398.0000 - val_loss: 34314556.0000\n",
      "Epoch 128/300\n",
      "37/37 [==============================] - 0s 6ms/step - loss: 32970874.0000 - val_loss: 33825524.0000\n",
      "Epoch 129/300\n",
      "37/37 [==============================] - 0s 6ms/step - loss: 32503474.0000 - val_loss: 33301740.0000\n",
      "Epoch 130/300\n",
      "37/37 [==============================] - 0s 6ms/step - loss: 32022666.0000 - val_loss: 32802002.0000\n",
      "Epoch 131/300\n",
      "37/37 [==============================] - 0s 5ms/step - loss: 31521644.0000 - val_loss: 32319466.0000\n",
      "Epoch 132/300\n",
      "37/37 [==============================] - 0s 6ms/step - loss: 31026944.0000 - val_loss: 31762054.0000\n",
      "Epoch 133/300\n",
      "37/37 [==============================] - 0s 6ms/step - loss: 30495502.0000 - val_loss: 31263536.0000\n",
      "Epoch 134/300\n",
      "37/37 [==============================] - 0s 5ms/step - loss: 29951020.0000 - val_loss: 30730052.0000\n",
      "Epoch 135/300\n",
      "37/37 [==============================] - 0s 6ms/step - loss: 29413104.0000 - val_loss: 30176720.0000\n",
      "Epoch 136/300\n",
      "37/37 [==============================] - 0s 6ms/step - loss: 28915582.0000 - val_loss: 29687570.0000\n",
      "Epoch 137/300\n",
      "37/37 [==============================] - 0s 6ms/step - loss: 28416046.0000 - val_loss: 29228428.0000\n",
      "Epoch 138/300\n",
      "37/37 [==============================] - 0s 6ms/step - loss: 27962704.0000 - val_loss: 28800576.0000\n",
      "Epoch 139/300\n",
      "37/37 [==============================] - 0s 6ms/step - loss: 27543520.0000 - val_loss: 28421528.0000\n",
      "Epoch 140/300\n",
      "37/37 [==============================] - 0s 6ms/step - loss: 27174298.0000 - val_loss: 28061008.0000\n",
      "Epoch 141/300\n",
      "37/37 [==============================] - 0s 6ms/step - loss: 26799404.0000 - val_loss: 27709562.0000\n",
      "Epoch 142/300\n",
      "37/37 [==============================] - 0s 5ms/step - loss: 26495882.0000 - val_loss: 27426148.0000\n",
      "Epoch 143/300\n"
     ]
    },
    {
     "name": "stdout",
     "output_type": "stream",
     "text": [
      "37/37 [==============================] - 0s 5ms/step - loss: 26168212.0000 - val_loss: 27119458.0000\n",
      "Epoch 144/300\n",
      "37/37 [==============================] - 0s 6ms/step - loss: 25901286.0000 - val_loss: 26866204.0000\n",
      "Epoch 145/300\n",
      "37/37 [==============================] - 0s 6ms/step - loss: 25687102.0000 - val_loss: 26635642.0000\n",
      "Epoch 146/300\n",
      "37/37 [==============================] - 0s 6ms/step - loss: 25443666.0000 - val_loss: 26464528.0000\n",
      "Epoch 147/300\n",
      "37/37 [==============================] - 0s 6ms/step - loss: 25234510.0000 - val_loss: 26218672.0000\n",
      "Epoch 148/300\n",
      "37/37 [==============================] - 0s 6ms/step - loss: 25035458.0000 - val_loss: 26077652.0000\n",
      "Epoch 149/300\n",
      "37/37 [==============================] - 0s 6ms/step - loss: 24858732.0000 - val_loss: 25867894.0000\n",
      "Epoch 150/300\n",
      "37/37 [==============================] - 0s 6ms/step - loss: 24673738.0000 - val_loss: 25699352.0000\n",
      "Epoch 151/300\n",
      "37/37 [==============================] - 0s 6ms/step - loss: 24535906.0000 - val_loss: 25576738.0000\n",
      "Epoch 152/300\n",
      "37/37 [==============================] - 0s 5ms/step - loss: 24372142.0000 - val_loss: 25398702.0000\n",
      "Epoch 153/300\n",
      "37/37 [==============================] - 0s 5ms/step - loss: 24240128.0000 - val_loss: 25265890.0000\n",
      "Epoch 154/300\n",
      "37/37 [==============================] - 0s 6ms/step - loss: 24110570.0000 - val_loss: 25148942.0000\n",
      "Epoch 155/300\n",
      "37/37 [==============================] - 0s 6ms/step - loss: 23992900.0000 - val_loss: 25022074.0000\n",
      "Epoch 156/300\n",
      "37/37 [==============================] - 0s 6ms/step - loss: 23853896.0000 - val_loss: 24907614.0000\n",
      "Epoch 157/300\n",
      "37/37 [==============================] - 0s 6ms/step - loss: 23766492.0000 - val_loss: 24796858.0000\n",
      "Epoch 158/300\n",
      "37/37 [==============================] - 0s 6ms/step - loss: 23635720.0000 - val_loss: 24719770.0000\n",
      "Epoch 159/300\n",
      "37/37 [==============================] - 0s 6ms/step - loss: 23563686.0000 - val_loss: 24593220.0000\n",
      "Epoch 160/300\n",
      "37/37 [==============================] - 0s 5ms/step - loss: 23432644.0000 - val_loss: 24510738.0000\n",
      "Epoch 161/300\n",
      "37/37 [==============================] - 0s 6ms/step - loss: 23358092.0000 - val_loss: 24410734.0000\n",
      "Epoch 162/300\n",
      "37/37 [==============================] - 0s 6ms/step - loss: 23237516.0000 - val_loss: 24322534.0000\n",
      "Epoch 163/300\n",
      "37/37 [==============================] - 0s 6ms/step - loss: 23152572.0000 - val_loss: 24230482.0000\n",
      "Epoch 164/300\n",
      "37/37 [==============================] - 0s 6ms/step - loss: 23069908.0000 - val_loss: 24151512.0000\n",
      "Epoch 165/300\n",
      "37/37 [==============================] - 0s 6ms/step - loss: 22984950.0000 - val_loss: 24073948.0000\n",
      "Epoch 166/300\n",
      "37/37 [==============================] - 0s 5ms/step - loss: 22915808.0000 - val_loss: 24018218.0000\n",
      "Epoch 167/300\n",
      "37/37 [==============================] - 0s 6ms/step - loss: 22817648.0000 - val_loss: 23931704.0000\n",
      "Epoch 168/300\n",
      "37/37 [==============================] - 0s 6ms/step - loss: 22764694.0000 - val_loss: 23880056.0000\n",
      "Epoch 169/300\n",
      "37/37 [==============================] - 0s 6ms/step - loss: 22687580.0000 - val_loss: 23816572.0000\n",
      "Epoch 170/300\n",
      "37/37 [==============================] - 0s 6ms/step - loss: 22627736.0000 - val_loss: 23719884.0000\n",
      "Epoch 171/300\n",
      "37/37 [==============================] - 0s 6ms/step - loss: 22541892.0000 - val_loss: 23666072.0000\n",
      "Epoch 172/300\n",
      "37/37 [==============================] - 0s 6ms/step - loss: 22487158.0000 - val_loss: 23601976.0000\n",
      "Epoch 173/300\n",
      "37/37 [==============================] - 0s 6ms/step - loss: 22427298.0000 - val_loss: 23540714.0000\n",
      "Epoch 174/300\n",
      "37/37 [==============================] - 0s 6ms/step - loss: 22359216.0000 - val_loss: 23484960.0000\n",
      "Epoch 175/300\n",
      "37/37 [==============================] - 0s 6ms/step - loss: 22300866.0000 - val_loss: 23466538.0000\n",
      "Epoch 176/300\n",
      "37/37 [==============================] - 0s 6ms/step - loss: 22240256.0000 - val_loss: 23373954.0000\n",
      "Epoch 177/300\n",
      "37/37 [==============================] - 0s 6ms/step - loss: 22188078.0000 - val_loss: 23357366.0000\n",
      "Epoch 178/300\n",
      "37/37 [==============================] - 0s 6ms/step - loss: 22142862.0000 - val_loss: 23284050.0000\n",
      "Epoch 179/300\n",
      "37/37 [==============================] - 0s 5ms/step - loss: 22086772.0000 - val_loss: 23219422.0000\n",
      "Epoch 180/300\n",
      "37/37 [==============================] - 0s 6ms/step - loss: 22029886.0000 - val_loss: 23220474.0000\n",
      "Epoch 181/300\n",
      "37/37 [==============================] - 0s 5ms/step - loss: 21982398.0000 - val_loss: 23169738.0000\n",
      "Epoch 182/300\n",
      "37/37 [==============================] - 0s 6ms/step - loss: 21951286.0000 - val_loss: 23080490.0000\n",
      "Epoch 183/300\n",
      "37/37 [==============================] - 0s 6ms/step - loss: 21876042.0000 - val_loss: 23034322.0000\n",
      "Epoch 184/300\n",
      "37/37 [==============================] - 0s 6ms/step - loss: 21823168.0000 - val_loss: 23013630.0000\n",
      "Epoch 185/300\n",
      "37/37 [==============================] - 0s 6ms/step - loss: 21784360.0000 - val_loss: 22956302.0000\n",
      "Epoch 186/300\n",
      "37/37 [==============================] - 0s 6ms/step - loss: 21741084.0000 - val_loss: 22912312.0000\n",
      "Epoch 187/300\n",
      "37/37 [==============================] - 0s 6ms/step - loss: 21690708.0000 - val_loss: 22869204.0000\n",
      "Epoch 188/300\n",
      "37/37 [==============================] - 0s 6ms/step - loss: 21665844.0000 - val_loss: 22829838.0000\n",
      "Epoch 189/300\n",
      "37/37 [==============================] - 0s 6ms/step - loss: 21603566.0000 - val_loss: 22787974.0000\n",
      "Epoch 190/300\n",
      "37/37 [==============================] - 0s 5ms/step - loss: 21578596.0000 - val_loss: 22753886.0000\n",
      "Epoch 191/300\n",
      "37/37 [==============================] - 0s 6ms/step - loss: 21566060.0000 - val_loss: 22708918.0000\n",
      "Epoch 192/300\n",
      "37/37 [==============================] - 0s 6ms/step - loss: 21514342.0000 - val_loss: 22674710.0000\n",
      "Epoch 193/300\n",
      "37/37 [==============================] - 0s 6ms/step - loss: 21443920.0000 - val_loss: 22635442.0000\n",
      "Epoch 194/300\n",
      "37/37 [==============================] - 0s 6ms/step - loss: 21401054.0000 - val_loss: 22601180.0000\n",
      "Epoch 195/300\n",
      "37/37 [==============================] - 0s 6ms/step - loss: 21375364.0000 - val_loss: 22563962.0000\n",
      "Epoch 196/300\n",
      "37/37 [==============================] - 0s 6ms/step - loss: 21337506.0000 - val_loss: 22534790.0000\n",
      "Epoch 197/300\n",
      "37/37 [==============================] - 0s 6ms/step - loss: 21306348.0000 - val_loss: 22504780.0000\n",
      "Epoch 198/300\n",
      "37/37 [==============================] - 0s 6ms/step - loss: 21256148.0000 - val_loss: 22461472.0000\n",
      "Epoch 199/300\n",
      "37/37 [==============================] - 0s 5ms/step - loss: 21228958.0000 - val_loss: 22432306.0000\n",
      "Epoch 200/300\n",
      "37/37 [==============================] - 0s 6ms/step - loss: 21193930.0000 - val_loss: 22400496.0000\n",
      "Epoch 201/300\n",
      "37/37 [==============================] - 0s 6ms/step - loss: 21168374.0000 - val_loss: 22374072.0000\n",
      "Epoch 202/300\n",
      "37/37 [==============================] - 0s 6ms/step - loss: 21122494.0000 - val_loss: 22340002.0000\n",
      "Epoch 203/300\n",
      "37/37 [==============================] - 0s 6ms/step - loss: 21099726.0000 - val_loss: 22304466.0000\n",
      "Epoch 204/300\n",
      "37/37 [==============================] - 0s 6ms/step - loss: 21054944.0000 - val_loss: 22272292.0000\n",
      "Epoch 205/300\n",
      "37/37 [==============================] - 0s 6ms/step - loss: 21020812.0000 - val_loss: 22252636.0000\n",
      "Epoch 206/300\n",
      "37/37 [==============================] - 0s 6ms/step - loss: 20995206.0000 - val_loss: 22237500.0000\n",
      "Epoch 207/300\n",
      "37/37 [==============================] - 0s 6ms/step - loss: 20965522.0000 - val_loss: 22205786.0000\n",
      "Epoch 208/300\n",
      "37/37 [==============================] - 0s 6ms/step - loss: 20917912.0000 - val_loss: 22160718.0000\n",
      "Epoch 209/300\n",
      "37/37 [==============================] - 0s 6ms/step - loss: 20898386.0000 - val_loss: 22173392.0000\n",
      "Epoch 210/300\n",
      "37/37 [==============================] - 0s 6ms/step - loss: 20909396.0000 - val_loss: 22111406.0000\n",
      "Epoch 211/300\n",
      "37/37 [==============================] - 0s 6ms/step - loss: 20823374.0000 - val_loss: 22113552.0000\n",
      "Epoch 212/300\n",
      "37/37 [==============================] - 0s 6ms/step - loss: 20798200.0000 - val_loss: 22074296.0000\n",
      "Epoch 213/300\n",
      "37/37 [==============================] - 0s 6ms/step - loss: 20768056.0000 - val_loss: 22041182.0000\n",
      "Epoch 214/300\n"
     ]
    },
    {
     "name": "stdout",
     "output_type": "stream",
     "text": [
      "37/37 [==============================] - 0s 6ms/step - loss: 20739618.0000 - val_loss: 22027144.0000\n",
      "Epoch 215/300\n",
      "37/37 [==============================] - 0s 6ms/step - loss: 20705518.0000 - val_loss: 21991096.0000\n",
      "Epoch 216/300\n",
      "37/37 [==============================] - 0s 6ms/step - loss: 20678934.0000 - val_loss: 21975756.0000\n",
      "Epoch 217/300\n",
      "37/37 [==============================] - 0s 6ms/step - loss: 20655602.0000 - val_loss: 21952996.0000\n",
      "Epoch 218/300\n",
      "37/37 [==============================] - 0s 6ms/step - loss: 20634940.0000 - val_loss: 21920446.0000\n",
      "Epoch 219/300\n",
      "37/37 [==============================] - 0s 6ms/step - loss: 20597068.0000 - val_loss: 21912126.0000\n",
      "Epoch 220/300\n",
      "37/37 [==============================] - 0s 6ms/step - loss: 20556408.0000 - val_loss: 21882256.0000\n",
      "Epoch 221/300\n",
      "37/37 [==============================] - 0s 6ms/step - loss: 20546472.0000 - val_loss: 21871994.0000\n",
      "Epoch 222/300\n",
      "37/37 [==============================] - 0s 6ms/step - loss: 20507868.0000 - val_loss: 21863050.0000\n",
      "Epoch 223/300\n",
      "37/37 [==============================] - 0s 6ms/step - loss: 20531028.0000 - val_loss: 21841884.0000\n",
      "Epoch 224/300\n",
      "37/37 [==============================] - 0s 6ms/step - loss: 20476568.0000 - val_loss: 21795964.0000\n",
      "Epoch 225/300\n",
      "37/37 [==============================] - 0s 6ms/step - loss: 20426642.0000 - val_loss: 21770224.0000\n",
      "Epoch 226/300\n",
      "37/37 [==============================] - 0s 6ms/step - loss: 20408622.0000 - val_loss: 21750074.0000\n",
      "Epoch 227/300\n",
      "37/37 [==============================] - 0s 6ms/step - loss: 20396118.0000 - val_loss: 21738866.0000\n",
      "Epoch 228/300\n",
      "37/37 [==============================] - 0s 5ms/step - loss: 20373016.0000 - val_loss: 21712928.0000\n",
      "Epoch 229/300\n",
      "37/37 [==============================] - 0s 6ms/step - loss: 20342996.0000 - val_loss: 21688942.0000\n",
      "Epoch 230/300\n",
      "37/37 [==============================] - 0s 6ms/step - loss: 20302606.0000 - val_loss: 21661574.0000\n",
      "Epoch 231/300\n",
      "37/37 [==============================] - 0s 6ms/step - loss: 20274568.0000 - val_loss: 21642880.0000\n",
      "Epoch 232/300\n",
      "37/37 [==============================] - 0s 6ms/step - loss: 20283596.0000 - val_loss: 21643562.0000\n",
      "Epoch 233/300\n",
      "37/37 [==============================] - 0s 6ms/step - loss: 20287050.0000 - val_loss: 21612524.0000\n",
      "Epoch 234/300\n",
      "37/37 [==============================] - 0s 6ms/step - loss: 20239574.0000 - val_loss: 21579946.0000\n",
      "Epoch 235/300\n",
      "37/37 [==============================] - 0s 6ms/step - loss: 20191384.0000 - val_loss: 21561898.0000\n",
      "Epoch 236/300\n",
      "37/37 [==============================] - 0s 6ms/step - loss: 20153916.0000 - val_loss: 21552084.0000\n",
      "Epoch 237/300\n",
      "37/37 [==============================] - 0s 5ms/step - loss: 20134622.0000 - val_loss: 21586122.0000\n",
      "Epoch 238/300\n",
      "37/37 [==============================] - 0s 5ms/step - loss: 20112094.0000 - val_loss: 21500376.0000\n",
      "Epoch 239/300\n",
      "37/37 [==============================] - 0s 6ms/step - loss: 20089386.0000 - val_loss: 21482348.0000\n",
      "Epoch 240/300\n",
      "37/37 [==============================] - 0s 6ms/step - loss: 20073006.0000 - val_loss: 21461494.0000\n",
      "Epoch 241/300\n",
      "37/37 [==============================] - 0s 6ms/step - loss: 20076848.0000 - val_loss: 21453118.0000\n",
      "Epoch 242/300\n",
      "37/37 [==============================] - 0s 6ms/step - loss: 20020972.0000 - val_loss: 21422952.0000\n",
      "Epoch 243/300\n",
      "37/37 [==============================] - 0s 6ms/step - loss: 19994196.0000 - val_loss: 21407160.0000\n",
      "Epoch 244/300\n",
      "37/37 [==============================] - 0s 6ms/step - loss: 19973094.0000 - val_loss: 21386954.0000\n",
      "Epoch 245/300\n",
      "37/37 [==============================] - 0s 6ms/step - loss: 19959040.0000 - val_loss: 21404334.0000\n",
      "Epoch 246/300\n",
      "37/37 [==============================] - 0s 6ms/step - loss: 19943128.0000 - val_loss: 21350470.0000\n",
      "Epoch 247/300\n",
      "37/37 [==============================] - 0s 6ms/step - loss: 19918216.0000 - val_loss: 21365050.0000\n",
      "Epoch 248/300\n",
      "37/37 [==============================] - 0s 6ms/step - loss: 19903372.0000 - val_loss: 21317678.0000\n",
      "Epoch 249/300\n",
      "37/37 [==============================] - 0s 6ms/step - loss: 19887084.0000 - val_loss: 21306042.0000\n",
      "Epoch 250/300\n",
      "37/37 [==============================] - 0s 6ms/step - loss: 19858778.0000 - val_loss: 21289886.0000\n",
      "Epoch 251/300\n",
      "37/37 [==============================] - 0s 6ms/step - loss: 19845996.0000 - val_loss: 21268160.0000\n",
      "Epoch 252/300\n",
      "37/37 [==============================] - 0s 6ms/step - loss: 19851398.0000 - val_loss: 21287574.0000\n",
      "Epoch 253/300\n",
      "37/37 [==============================] - 0s 6ms/step - loss: 19812506.0000 - val_loss: 21238410.0000\n",
      "Epoch 254/300\n",
      "37/37 [==============================] - 0s 6ms/step - loss: 19780274.0000 - val_loss: 21351832.0000\n",
      "Epoch 255/300\n",
      "37/37 [==============================] - 0s 6ms/step - loss: 19814914.0000 - val_loss: 21204432.0000\n",
      "Epoch 256/300\n",
      "37/37 [==============================] - 0s 6ms/step - loss: 19767866.0000 - val_loss: 21200008.0000\n",
      "Epoch 257/300\n",
      "37/37 [==============================] - 0s 6ms/step - loss: 19725204.0000 - val_loss: 21182666.0000\n",
      "Epoch 258/300\n",
      "37/37 [==============================] - 0s 6ms/step - loss: 19719152.0000 - val_loss: 21256432.0000\n",
      "Epoch 259/300\n",
      "37/37 [==============================] - 0s 6ms/step - loss: 19717624.0000 - val_loss: 21156572.0000\n",
      "Epoch 260/300\n",
      "37/37 [==============================] - 0s 6ms/step - loss: 19702508.0000 - val_loss: 21164874.0000\n",
      "Epoch 261/300\n",
      "37/37 [==============================] - 0s 6ms/step - loss: 19671630.0000 - val_loss: 21114998.0000\n",
      "Epoch 262/300\n",
      "37/37 [==============================] - 0s 6ms/step - loss: 19664736.0000 - val_loss: 21091956.0000\n",
      "Epoch 263/300\n",
      "37/37 [==============================] - 0s 5ms/step - loss: 19633582.0000 - val_loss: 21083192.0000\n",
      "Epoch 264/300\n",
      "37/37 [==============================] - 0s 6ms/step - loss: 19628472.0000 - val_loss: 21058544.0000\n",
      "Epoch 265/300\n",
      "37/37 [==============================] - 0s 6ms/step - loss: 19624488.0000 - val_loss: 21066124.0000\n",
      "Epoch 266/300\n",
      "37/37 [==============================] - 0s 6ms/step - loss: 19624592.0000 - val_loss: 21023518.0000\n",
      "Epoch 267/300\n",
      "37/37 [==============================] - 0s 6ms/step - loss: 19581600.0000 - val_loss: 21014022.0000\n",
      "Epoch 268/300\n",
      "37/37 [==============================] - 0s 6ms/step - loss: 19580146.0000 - val_loss: 21015126.0000\n",
      "Epoch 269/300\n",
      "37/37 [==============================] - 0s 6ms/step - loss: 19550946.0000 - val_loss: 20989946.0000\n",
      "Epoch 270/300\n",
      "37/37 [==============================] - 0s 6ms/step - loss: 19557102.0000 - val_loss: 21030568.0000\n",
      "Epoch 271/300\n",
      "37/37 [==============================] - 0s 6ms/step - loss: 19552710.0000 - val_loss: 20964280.0000\n",
      "Epoch 272/300\n",
      "37/37 [==============================] - 0s 6ms/step - loss: 19518862.0000 - val_loss: 20954904.0000\n",
      "Epoch 273/300\n",
      "37/37 [==============================] - 0s 6ms/step - loss: 19500012.0000 - val_loss: 20929212.0000\n",
      "Epoch 274/300\n",
      "37/37 [==============================] - 0s 6ms/step - loss: 19486996.0000 - val_loss: 20923936.0000\n",
      "Epoch 275/300\n",
      "37/37 [==============================] - 0s 6ms/step - loss: 19477758.0000 - val_loss: 20917632.0000\n",
      "Epoch 276/300\n",
      "37/37 [==============================] - 0s 6ms/step - loss: 19449584.0000 - val_loss: 20915130.0000\n",
      "Epoch 277/300\n",
      "37/37 [==============================] - 0s 6ms/step - loss: 19470508.0000 - val_loss: 20911332.0000\n",
      "Epoch 278/300\n",
      "37/37 [==============================] - 0s 6ms/step - loss: 19451024.0000 - val_loss: 20882840.0000\n",
      "Epoch 279/300\n",
      "37/37 [==============================] - 0s 6ms/step - loss: 19412622.0000 - val_loss: 20869994.0000\n",
      "Epoch 280/300\n",
      "37/37 [==============================] - 0s 6ms/step - loss: 19424180.0000 - val_loss: 20850054.0000\n",
      "Epoch 281/300\n",
      "37/37 [==============================] - 0s 6ms/step - loss: 19416776.0000 - val_loss: 20859060.0000\n",
      "Epoch 282/300\n",
      "37/37 [==============================] - 0s 5ms/step - loss: 19376680.0000 - val_loss: 20963956.0000\n",
      "Epoch 283/300\n",
      "37/37 [==============================] - 0s 6ms/step - loss: 19422498.0000 - val_loss: 20841060.0000\n",
      "Epoch 284/300\n",
      "37/37 [==============================] - 0s 6ms/step - loss: 19358348.0000 - val_loss: 20812668.0000\n",
      "Epoch 285/300\n"
     ]
    },
    {
     "name": "stdout",
     "output_type": "stream",
     "text": [
      "37/37 [==============================] - 0s 6ms/step - loss: 19353304.0000 - val_loss: 20810356.0000\n",
      "Epoch 286/300\n",
      "37/37 [==============================] - 0s 6ms/step - loss: 19346398.0000 - val_loss: 20789650.0000\n",
      "Epoch 287/300\n",
      "37/37 [==============================] - 0s 6ms/step - loss: 19331680.0000 - val_loss: 20790570.0000\n",
      "Epoch 288/300\n",
      "37/37 [==============================] - 0s 6ms/step - loss: 19315750.0000 - val_loss: 20775080.0000\n",
      "Epoch 289/300\n",
      "37/37 [==============================] - 0s 5ms/step - loss: 19322110.0000 - val_loss: 20817316.0000\n",
      "Epoch 290/300\n",
      "37/37 [==============================] - 0s 6ms/step - loss: 19320804.0000 - val_loss: 20776134.0000\n",
      "Epoch 291/300\n",
      "37/37 [==============================] - 0s 6ms/step - loss: 19320412.0000 - val_loss: 20772186.0000\n",
      "Epoch 292/300\n",
      "37/37 [==============================] - 0s 6ms/step - loss: 19291046.0000 - val_loss: 20755232.0000\n",
      "Epoch 293/300\n",
      "37/37 [==============================] - 0s 6ms/step - loss: 19263758.0000 - val_loss: 20800722.0000\n",
      "Epoch 294/300\n",
      "37/37 [==============================] - 0s 6ms/step - loss: 19284254.0000 - val_loss: 20723140.0000\n",
      "Epoch 295/300\n",
      "37/37 [==============================] - 0s 5ms/step - loss: 19262874.0000 - val_loss: 20693228.0000\n",
      "Epoch 296/300\n",
      "37/37 [==============================] - 0s 5ms/step - loss: 19244296.0000 - val_loss: 20701388.0000\n",
      "Epoch 297/300\n",
      "37/37 [==============================] - 0s 6ms/step - loss: 19242186.0000 - val_loss: 20673670.0000\n",
      "Epoch 298/300\n",
      "37/37 [==============================] - 0s 6ms/step - loss: 19237160.0000 - val_loss: 20676746.0000\n",
      "Epoch 299/300\n",
      "37/37 [==============================] - 0s 6ms/step - loss: 19220268.0000 - val_loss: 20678768.0000\n",
      "Epoch 300/300\n",
      "37/37 [==============================] - 0s 6ms/step - loss: 19193506.0000 - val_loss: 20659344.0000\n"
     ]
    },
    {
     "data": {
      "text/plain": [
       "<keras.src.callbacks.History at 0x1e13dc367f0>"
      ]
     },
     "execution_count": 102,
     "metadata": {},
     "output_type": "execute_result"
    }
   ],
   "source": [
    "model.fit(x=x_train, y=y_train,validation_data=(x_test,y_test),batch_size=250, epochs=300)"
   ]
  },
  {
   "cell_type": "markdown",
   "id": "a07a5de3",
   "metadata": {},
   "source": [
    "## Validation data diyerek test datasını da model eğitilirken vermiş olduk. Bu işlem sonrasında manuel olarak yaptığımız kısmı bizim için kolaylaştırıyor. Validation loss terimi de test verisindeki kayıplardan bahsediyor. Bunları böyle değerlerden incelemek zor. Bu yğzden grafiğe dökelim :"
   ]
  },
  {
   "cell_type": "code",
   "execution_count": 103,
   "id": "f77ff6d7",
   "metadata": {},
   "outputs": [],
   "source": [
    "kayıpVerisi=pd.DataFrame(model.history.history)"
   ]
  },
  {
   "cell_type": "code",
   "execution_count": 104,
   "id": "ec415d3d",
   "metadata": {},
   "outputs": [
    {
     "data": {
      "text/html": [
       "<div>\n",
       "<style scoped>\n",
       "    .dataframe tbody tr th:only-of-type {\n",
       "        vertical-align: middle;\n",
       "    }\n",
       "\n",
       "    .dataframe tbody tr th {\n",
       "        vertical-align: top;\n",
       "    }\n",
       "\n",
       "    .dataframe thead th {\n",
       "        text-align: right;\n",
       "    }\n",
       "</style>\n",
       "<table border=\"1\" class=\"dataframe\">\n",
       "  <thead>\n",
       "    <tr style=\"text-align: right;\">\n",
       "      <th></th>\n",
       "      <th>loss</th>\n",
       "      <th>val_loss</th>\n",
       "    </tr>\n",
       "  </thead>\n",
       "  <tbody>\n",
       "    <tr>\n",
       "      <th>0</th>\n",
       "      <td>672145088.0</td>\n",
       "      <td>688103680.0</td>\n",
       "    </tr>\n",
       "    <tr>\n",
       "      <th>1</th>\n",
       "      <td>672122688.0</td>\n",
       "      <td>688061120.0</td>\n",
       "    </tr>\n",
       "    <tr>\n",
       "      <th>2</th>\n",
       "      <td>672039424.0</td>\n",
       "      <td>687911744.0</td>\n",
       "    </tr>\n",
       "    <tr>\n",
       "      <th>3</th>\n",
       "      <td>671783552.0</td>\n",
       "      <td>687489728.0</td>\n",
       "    </tr>\n",
       "    <tr>\n",
       "      <th>4</th>\n",
       "      <td>671098816.0</td>\n",
       "      <td>686394880.0</td>\n",
       "    </tr>\n",
       "  </tbody>\n",
       "</table>\n",
       "</div>"
      ],
      "text/plain": [
       "          loss     val_loss\n",
       "0  672145088.0  688103680.0\n",
       "1  672122688.0  688061120.0\n",
       "2  672039424.0  687911744.0\n",
       "3  671783552.0  687489728.0\n",
       "4  671098816.0  686394880.0"
      ]
     },
     "execution_count": 104,
     "metadata": {},
     "output_type": "execute_result"
    }
   ],
   "source": [
    "kayıpVerisi.head()"
   ]
  },
  {
   "cell_type": "code",
   "execution_count": 105,
   "id": "0680b8f7",
   "metadata": {},
   "outputs": [
    {
     "data": {
      "text/plain": [
       "<AxesSubplot:>"
      ]
     },
     "execution_count": 105,
     "metadata": {},
     "output_type": "execute_result"
    },
    {
     "data": {
      "image/png": "[encoded data removed]",
      "text/plain": [
       "<Figure size 640x480 with 1 Axes>"
      ]
     },
     "metadata": {},
     "output_type": "display_data"
    }
   ],
   "source": [
    "kayıpVerisi.plot()"
   ]
  },
  {
   "cell_type": "markdown",
   "id": "302fa3eb",
   "metadata": {},
   "source": [
    "## Bu grafikte bakmamız gereken ilk durum : Kayıplar azalıyor mu ----> evet\n",
    "## Diğer durum : loss ve validation loss birlikte haraket ediyor mu ---> evet"
   ]
  },
  {
   "cell_type": "code",
   "execution_count": 107,
   "id": "b5e7af0d",
   "metadata": {},
   "outputs": [],
   "source": [
    "from sklearn.metrics import mean_squared_error, mean_absolute_error"
   ]
  },
  {
   "cell_type": "code",
   "execution_count": 109,
   "id": "acfd86f9",
   "metadata": {},
   "outputs": [
    {
     "name": "stdout",
     "output_type": "stream",
     "text": [
      "122/122 [==============================] - 1s 3ms/step\n"
     ]
    }
   ],
   "source": [
    "tahminDizisi=model.predict(x_test)"
   ]
  },
  {
   "cell_type": "code",
   "execution_count": 110,
   "id": "9e7d7202",
   "metadata": {},
   "outputs": [
    {
     "data": {
      "text/plain": [
       "array([[22297.516],\n",
       "       [23864.656],\n",
       "       [25202.414],\n",
       "       ...,\n",
       "       [26518.766],\n",
       "       [11435.76 ],\n",
       "       [25051.434]], dtype=float32)"
      ]
     },
     "execution_count": 110,
     "metadata": {},
     "output_type": "execute_result"
    }
   ],
   "source": [
    "tahminDizisi"
   ]
  },
  {
   "cell_type": "markdown",
   "id": "ef8447b6",
   "metadata": {},
   "source": [
    "## Benim elimde gerçek y ler var. y_test ile hata oranına bakalım :"
   ]
  },
  {
   "cell_type": "code",
   "execution_count": 111,
   "id": "a9bc2f0f",
   "metadata": {},
   "outputs": [
    {
     "data": {
      "text/plain": [
       "3227.0062076215227"
      ]
     },
     "execution_count": 111,
     "metadata": {},
     "output_type": "execute_result"
    }
   ],
   "source": [
    "mean_absolute_error(y_test,tahminDizisi)"
   ]
  },
  {
   "cell_type": "markdown",
   "id": "f98f12f4",
   "metadata": {},
   "source": [
    "#### Fiyatlardan 3227 pound gibi bir sapma olacağı sonucuna varıyoruz. Bu değerin iyi mi kötü mü olduğu ya da kullanılabilir mi kulanılamaz mı olduğunu veri sahibi ya da kullanıcı belirler. Değiştirmek istersek geriye dönüp veriyi daha iyi temizleyebilir, epoch değerini değiştirebilir, katman sayısını artırabilir gibi işlemleri gerçekleştirebiliriz. Tabi ki bunları yaparken de overfitting (aşırı öğrenme/ ezberleme) durumuna sebep olmadan."
   ]
  },
  {
   "cell_type": "code",
   "execution_count": 114,
   "id": "e9064ad8",
   "metadata": {},
   "outputs": [
    {
     "data": {
      "text/plain": [
       "[<matplotlib.lines.Line2D at 0x1e14209a1f0>]"
      ]
     },
     "execution_count": 114,
     "metadata": {},
     "output_type": "execute_result"
    },
    {
     "data": {
      "image/png": "[encoded data removed]",
      "text/plain": [
       "<Figure size 640x480 with 1 Axes>"
      ]
     },
     "metadata": {},
     "output_type": "display_data"
    }
   ],
   "source": [
    "plt.scatter(y_test,tahminDizisi)\n",
    "plt.plot(y_test,y_test,\"g-*\")"
   ]
  },
  {
   "cell_type": "code",
   "execution_count": 115,
   "id": "e9f4363a",
   "metadata": {},
   "outputs": [],
   "source": [
    "## Çıkan sonucu değerlendirecek olursak fena değil denilebilir."
   ]
  },
  {
   "cell_type": "code",
   "execution_count": null,
   "id": "6a8f6ba4",
   "metadata": {},
   "outputs": [],
   "source": []
  }
 ],
 "metadata": {
  "kernelspec": {
   "display_name": "Python 3 (ipykernel)",
   "language": "python",
   "name": "python3"
  },
  "language_info": {
   "codemirror_mode": {
    "name": "ipython",
    "version": 3
   },
   "file_extension": ".py",
   "mimetype": "text/x-python",
   "name": "python",
   "nbconvert_exporter": "python",
   "pygments_lexer": "ipython3",
   "version": "3.9.13"
  }
 },
 "nbformat": 4,
 "nbformat_minor": 5
}
